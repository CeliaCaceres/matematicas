{
  "nbformat": 4,
  "nbformat_minor": 0,
  "metadata": {
    "colab": {
      "provenance": [],
      "include_colab_link": true
    },
    "kernelspec": {
      "name": "python3",
      "display_name": "Python 3"
    },
    "language_info": {
      "name": "python"
    }
  },
  "cells": [
    {
      "cell_type": "markdown",
      "metadata": {
        "id": "view-in-github",
        "colab_type": "text"
      },
      "source": [
        "<a href=\"https://colab.research.google.com/github/CeliaCaceres/matematicas/blob/main/practicas/practica_grafos.ipynb\" target=\"_parent\"><img src=\"https://colab.research.google.com/assets/colab-badge.svg\" alt=\"Open In Colab\"/></a>"
      ]
    },
    {
      "cell_type": "markdown",
      "source": [
        "# Práctica 2. Grafos"
      ],
      "metadata": {
        "id": "s28_pETXts4V"
      }
    },
    {
      "cell_type": "markdown",
      "source": [
        "## Práctica 2.1\n",
        "**Algoritmo de Dijkstra**\n",
        "\n",
        "1. Mira estos vídeos:\n",
        " * [Algoritmo de DIJKSTRA ruta corta](https://youtu.be/6rl0ghgPfK0)\n",
        " * [Ruta mas corta en una red, algoritmo de Dijkstra](https://youtu.be/rh02c7v3EKY)\n",
        "2. ¿Qué utilidad tiene el algoritmo?\n",
        "3. Explique el algoritmo.\n",
        "4. De un ejemplo de un grafo resuelto con el algoritmo de Dijkstra.\n",
        "* Muestre la imagen del grafo con sus:\n",
        "  - nodos\n",
        "  - aristas (con flecha si son orientadas)\n",
        "  - pesos (distancias o costes)\n",
        "\n",
        "* Muestre nuevamente la imagen del grafo pero en esta ocasión con la solución."
      ],
      "metadata": {
        "id": "6Gr8mAWDxCdq"
      }
    },
    {
      "cell_type": "markdown",
      "source": [
        "## Práctica 2.2\n",
        "Vea el video:\n",
        "\n",
        "* [Camino mas corto Solver](https://youtu.be/LYeMWlTfOgA)\n",
        "\n",
        "Se pide:  \n",
        "1. Replique en un archivo de Excel el caso del vídeo, en la Hoja 1. En el método de resolución de Solver elija el método Simplex.\n",
        "2. En la Hoja 2, aplique esa metodología usando Solver a otro grafo de su invención. Dibuje el grafo, con sus nodos, flechas y pesos, y resuélvalo.\n",
        "3. Suba el archivo de Excel creado a la tarea del Aula Virtual."
      ],
      "metadata": {
        "id": "In4IULDcx1Az"
      }
    },
    {
      "cell_type": "markdown",
      "source": [
        "## Práctica 2.3\n",
        "1. Muestre el enlace a alguna página donde se de el algoritmo de Dijkstra programado en **Python**.\n",
        "2. Pruebe su código con algún grafo de ejemplo."
      ],
      "metadata": {
        "id": "Dp_Eb4ORzqg4"
      }
    },
    {
      "cell_type": "markdown",
      "source": [
        "## Práctica 2.4\n",
        "* Dibuja un grafo que tenga un mínimo de 6 nodos\n",
        "* Crea en **Python** su **matriz de adyacencia**\n",
        "* Crea en Python su **lista de adyacencia**\n",
        "* ¿Son cero todos los elementos de la diagonal principal?\n",
        " - En qué caso serían todos cero y en qué caso no.\n",
        "* ¿Es una matriz simétrica?\n",
        " - En qué caso sería simétrica y en qué caso no.\n",
        "* Usando Python, suma todos los valores de la matriz\n",
        "* Comprueba si funcionan bien o no los siguientes códigos:\n",
        " - El primero permite convertir una matriz de adyacencia en una lista de adyacencia.\n",
        " - El segundo permite convertir una lista de adyacencia en una matriz de adyacencia.\n",
        "* Dibuja el grafo del ejemplo que se usa en este código."
      ],
      "metadata": {
        "id": "r8s1WapAnHlw"
      }
    },
    {
      "cell_type": "code",
      "source": [
        "def convert_to_adjacency(matrix):\n",
        "    start = 0\n",
        "    res = []\n",
        "    lst = []\n",
        "    n = len(matrix)\n",
        "    for i in range(n):\n",
        "        res.append(lst*n)\n",
        "    while start < n:\n",
        "        y = matrix[start]\n",
        "        for i in range(len(y)):\n",
        "            if y[i]==1:\n",
        "                res[start].append(i)\n",
        "        start +=1\n",
        "    return res\n",
        "\n",
        "matrix =[[0,1,1,1,0,1,1,0,0],[1,0,0,1,0,0,1,1,0],[1,0,0,1,0,0,0,0,0],[1,1,1,0,1,0,0,0,0],[0,0,0,1,0,1,0,0,1],[1,0,0,0,1,0,0,0,1],[1,1,0,0,0,0,0,0,0],[0,1,0,0,0,0,0,0,0],[0,0,0,0,1,1,0,0,0]]\n",
        "print(convert_to_adjacency(matrix))"
      ],
      "metadata": {
        "id": "DDM1R2YzO-c-",
        "outputId": "cb12f103-bf53-4579-ecf2-0f597754e49a",
        "colab": {
          "base_uri": "https://localhost:8080/"
        }
      },
      "execution_count": 1,
      "outputs": [
        {
          "output_type": "stream",
          "name": "stdout",
          "text": [
            "[[1, 2, 3, 5, 6], [0, 3, 6, 7], [0, 3], [0, 1, 2, 4], [3, 5, 8], [0, 4, 8], [0, 1], [1], [4, 5]]\n"
          ]
        }
      ]
    },
    {
      "cell_type": "code",
      "source": [
        "def convert_to_matrix(graph):\n",
        "    matrix =[]\n",
        "    for i in range(len(graph)): \n",
        "        matrix.append([0]*len(graph))\n",
        "        for j in graph[i]:\n",
        "            matrix[i][j]=1\n",
        "    return matrix\n",
        "\n",
        "lst =[[1,2,3,5,6],[0,3,6,7],[0,3],[0,1,2,4],[3,5,8],[0,4,8],[0,1],[1],[4,5]]\n",
        "print(convert_to_matrix(lst))"
      ],
      "metadata": {
        "id": "TcrGI9GTQ-o2"
      },
      "execution_count": null,
      "outputs": []
    },
    {
      "cell_type": "markdown",
      "source": [
        "## Práctica 2.5\n",
        "**Árboles binarios**\n",
        "* Mira este vídeo: [¿Qué son los ÁRBOLES BINARIOS y por qué son tan geniales?](https://youtu.be/lMTaNbJAqvM)\n",
        "* ¿Qué son los **árboles binarios de búsqueda**? (en inglés: BST (Binary Search Tree))\n",
        "\n",
        "La búsqueda en árboles binarios es un método de búsqueda simple, dinámico y eficiente considerado como uno de los fundamentales en Ciencia de la Computación.\n",
        "\n",
        "* Mira este vídeo: [Recorrido de Árboles Binarios](https://youtu.be/WCiwBrj8EQY)\n",
        "* Qué significa recorrer el árbol en:\n",
        " - preorden\n",
        " - inorden\n",
        " - postorden\n",
        "* Al BST del vídeo anterior añadele dos nodos de tu elección, de forma que continúe siendo un BST, dibujalo (poniendo en color azul claro los dos nodos nuevos) y da su recorrido en:\n",
        " - preorden\n",
        " - inorden (observa que en este caso los nodos deben quedar **ordenados** de menor a mayor)\n",
        " - postorden\n",
        "* ¿Por qué los BST son importantes en ciencias de la computación?\n",
        "* Pon un link a una página o vídeo que trate este tema en **Python**.\n",
        "\n",
        "https://www.youtube.com/watch?v=d0ibZK_6Q7g \n",
        "* ¿Has probado el código en Python que comentas? ¿Funciona con el BST que has puesto como ejemplo?"
      ],
      "metadata": {
        "id": "KciKQEh-DIxH"
      }
    },
    {
      "cell_type": "markdown",
      "source": [],
      "metadata": {
        "id": "3EEsyK7sOuni"
      }
    },
    {
      "cell_type": "markdown",
      "source": [
        "## Práctica 2.6\n",
        "* ¿Qué es un **camino hamiltoniano**?\n",
        "\n",
        "Un camino hamiltoniano en un grafo es una una sucesión de aristas adyacentes, que visita todos los vértices del grafo una sola vez.\n",
        "* Pon un ejemplo\n",
        "* Dibújalo\n",
        "* Resulevelo\n",
        "* ¿Qué utilidad tiene?\n",
        "* Muestra los enlaces a un par de vídeos que hablen de ello"
      ],
      "metadata": {
        "id": "Chf7cUkfaR9O"
      }
    },
    {
      "cell_type": "markdown",
      "source": [],
      "metadata": {
        "id": "HSJaTQlGIjDB"
      }
    },
    {
      "cell_type": "markdown",
      "source": [
        "## Práctica 2.7\n",
        "* Mira este vídeo:\n",
        " - [Un problema matemático de ciudades y carreteras](https://youtu.be/kwU1uIbylsM)\n",
        "* Dibuja el grafo y da tu solución"
      ],
      "metadata": {
        "id": "vJ9XxUVKcpys"
      }
    },
    {
      "cell_type": "markdown",
      "source": [
        "## Práctica 2.8\n",
        "* El problema de **los puentes de Königsberg**\n",
        "* Describe el problema\n",
        "* Muestra una imagen del grafo resultante\n",
        "* Quién fue *Euler* y qué hizo para resolver el problema"
      ],
      "metadata": {
        "id": "mWSmp60VaQRp"
      }
    },
    {
      "cell_type": "markdown",
      "source": [
        "## Práctica 2.9\n",
        "* ¿Qué son los **caminos eulerianos**?\n",
        "\n",
        "Llamamos camino eulerianos al camino que recorre todas las aristas de un grafo una sola vez, pero que puede pasar por un mismo vértice varias veces.\n",
        "\n",
        "* ¿Qué son los **ciclos eulerianos**?\n",
        "\n",
        "Le decimos ciclo euleriano al camino que comienza y termina en el mismo vértice.\n",
        "\n",
        "* Da los enlaces a dos vídeos que hablen de ello\n",
        "\n",
        "https://www.youtube.com/watch?v=57yhBHFCb7w\n",
        "https://www.youtube.com/watch?v=w8d-4FyrbYk\n",
        "\n",
        "* Dibuja un par de casos\n",
        "\n",
        "![images.png](data:image/png;base64,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)![imageeulerian3.jpg](data:image/jpeg;base64,/9j/4AAQSkZJRgABAQEAYABgAAD/4RDmRXhpZgAATU0AKgAAAAgABAE7AAIAAAAJAAAISodpAAQAAAABAAAIVJydAAEAAAASAAAQzOocAAcAAAgMAAAAPgAAAAAc6gAAAAgAAAAAAAAAAAAAAAAAAAAAAAAAAAAAAAAAAAAAAAAAAAAAAAAAAAAAAAAAAAAAAAAAAAAAAAAAAAAAAAAAAAAAAAAAAAAAAAAAAAAAAAAAAAAAAAAAAAAAAAAAAAAAAAAAAAAAAAAAAAAAAAAAAAAAAAAAAAAAAAAAAAAAAAAAAAAAAAAAAAAAAAAAAAAAAAAAAAAAAAAAAAAAAAAAAAAAAAAAAAAAAAAAAAAAAAAAAAAAAAAAAAAAAAAAAAAAAAAAAAAAAAAAAAAAAAAAAAAAAAAAAAAAAAAAAAAAAAAAAAAAAAAAAAAAAAAAAAAAAAAAAAAAAAAAAAAAAAAAAAAAAAAAAAAAAAAAAAAAAAAAAAAAAAAAAAAAAAAAAAAAAAAAAAAAAAAAAAAAAAAAAAAAAAAAAAAAAAAAAAAAAAAAAAAAAAAAAAAAAAAAAAAAAAAAAAAAAAAAAAAAAAAAAAAAAAAAAAAAAAAAAAAAAAAAAAAAAAAAAAAAAAAAAAAAAAAAAAAAAAAAAAAAAAAAAAAAAAAAAAAAAAAAAAAAAAAAAAAAAAAAAAAAAAAAAAAAAAAAAAAAAAAAAAAAAAAAAAAAAAAAAAAAAAAAAAAAAAAAAAAAAAAAAAAAAAAAAAAAAAAAAAAAAAAAAAAAAAAAAAAAAAAAAAAAAAAAAAAAAAAAAAAAAAAAAAAAAAAAAAAAAAAAAAAAAAAAAAAAAAAAAAAAAAAAAAAAAAAAAAAAAAAAAAAAAAAAAAAAAAAAAAAAAAAAAAAAAAAAAAAAAAAAAAAAAAAAAAAAAAAAAAAAAAAAAAAAAAAAAAAAAAAAAAAAAAAAAAAAAAAAAAAAAAAAAAAAAAAAAAAAAAAAAAAAAAAAAAAAAAAAAAAAAAAAAAAAAAAAAAAAAAAAAAAAAAAAAAAAAAAAAAAAAAAAAAAAAAAAAAAAAAAAAAAAAAAAAAAAAAAAAAAAAAAAAAAAAAAAAAAAAAAAAAAAAAAAAAAAAAAAAAAAAAAAAAAAAAAAAAAAAAAAAAAAAAAAAAAAAAAAAAAAAAAAAAAAAAAAAAAAAAAAAAAAAAAAAAAAAAAAAAAAAAAAAAAAAAAAAAAAAAAAAAAAAAAAAAAAAAAAAAAAAAAAAAAAAAAAAAAAAAAAAAAAAAAAAAAAAAAAAAAAAAAAAAAAAAAAAAAAAAAAAAAAAAAAAAAAAAAAAAAAAAAAAAAAAAAAAAAAAAAAAAAAAAAAAAAAAAAAAAAAAAAAAAAAAAAAAAAAAAAAAAAAAAAAAAAAAAAAAAAAAAAAAAAAAAAAAAAAAAAAAAAAAAAAAAAAAAAAAAAAAAAAAAAAAAAAAAAAAAAAAAAAAAAAAAAAAAAAAAAAAAAAAAAAAAAAAAAAAAAAAAAAAAAAAAAAAAAAAAAAAAAAAAAAAAAAAAAAAAAAAAAAAAAAAAAAAAAAAAAAAAAAAAAAAAAAAAAAAAAAAAAAAAAAAAAAAAAAAAAAAAAAAAAAAAAAAAAAAAAAAAAAAAAAAAAAAAAAAAAAAAAAAAAAAAAAAAAAAAAAAAAAAAAAAAAAAAAAAAAAAAAAAAAAAAAAAAAAAAAAAAAAAAAAAAAAAAAAAAAAAAAAAAAAAAAAAAAAAAAAAAAAAAAAAAAAAAAAAAAAAAAAAAAAAAAAAAAAAAAAAAAAAAAAAAAAAAAAAAAAAAAAAAAAAAAAAAAAAAAAAAAAAAAAAAAAAAAAAAAAAAAAAAAAAAAAAAAAAAAAAAAAAAAAAAAAAAAAAAAAAAAAAAAAAAAAAAAAAAAAAAAAAAAAAAAAAAAAAAAAAAAAAAAAAAAAAAAAAAAAAAAAAAAAAAAAAAAAAAAAAAAAAAAAAAAAAAAAAAAAAAAAAAAAAAAAAAAAAAAAAAAAAAAAAAAAAAAAAAAAAAAAAAAAAAAAAAAAAAAAAAAAAAAAAAAAAAAAAAAAAAAAAAAAAAAAAAAAAAAAAAAAAAAAAAAAAAAAAAAAAAAAAAAAAAAAAAAAAAAAAAAAAAAAAAAAAAAAAAAAAAAAAAAAAAAAAAAAAAAAAAAAAAAAAAAAAAAAAAAAAAAAAAAAAAAAAAAAAAAAAAAAAAAAAAAAAAAAAAAAAAAAAAAAAAAAAAAAAAAAAAAAAAAAAAAAAAAAAAAAAAAAAAAAAAAAAAAAAAAAAAAAAAAAAAAAAAAAAAAAAAAAAAAAAAAAAAAAAAAAAAAAAAAAAAAAAAAAAAAAAAAAAAAAAAAAAAAAAAAAAAAAAAAAAAAAAAAAAAAAAAAAAAAAAAAAAAAAAAAAAAAAAAAAAAAAAAAAAAAAAAAAAAAAAAAAAAAAAAAAAAAAAAAAAAAAAAAAAAAAAAAAAAAAAAAAAAAAAAAAAAAAAAAAAAAAAAAAAAAAAAAAAAAAAAAAAAAAAAAAAAAAAAAAAAAAAAAAAAAAAAAAAAAAAAAAAAAAAAAAAAAAAAAAAAAAAAAAAAAAAAAAAAAAAAAAAAAAAAAAAAAAAAAAAAAAAAAAAAAAAAAAAAAAAAAAAAAAAAAAAAAAAAAAAAAAAAAAAAAAAAAAAAAAAAAAAAAAAAAAAAAAAAAAAAAAAAAAAAAAAAAAAAAAAAAAAAAAAAAAAAAAAAAAAAAAAAAAAAAAAAAAAAAAAAAAAAAAAAAAAAAAAAAAAAAAAAAAAAAAAAAAAAAAAAAAAAAAAAAAAAAAAAAAAAAAAAAAAAAAAAAAAAAAAAAAAAAAAAAAAAAAAAAAAAAAAEFteSBZYW5nAAAABZADAAIAAAAUAAAQopAEAAIAAAAUAAAQtpKRAAIAAAADMTgAAJKSAAIAAAADMTgAAOocAAcAAAgMAAAIlgAAAAAc6gAAAAgAAAAAAAAAAAAAAAAAAAAAAAAAAAAAAAAAAAAAAAAAAAAAAAAAAAAAAAAAAAAAAAAAAAAAAAAAAAAAAAAAAAAAAAAAAAAAAAAAAAAAAAAAAAAAAAAAAAAAAAAAAAAAAAAAAAAAAAAAAAAAAAAAAAAAAAAAAAAAAAAAAAAAAAAAAAAAAAAAAAAAAAAAAAAAAAAAAAAAAAAAAAAAAAAAAAAAAAAAAAAAAAAAAAAAAAAAAAAAAAAAAAAAAAAAAAAAAAAAAAAAAAAAAAAAAAAAAAAAAAAAAAAAAAAAAAAAAAAAAAAAAAAAAAAAAAAAAAAAAAAAAAAAAAAAAAAAAAAAAAAAAAAAAAAAAAAAAAAAAAAAAAAAAAAAAAAAAAAAAAAAAAAAAAAAAAAAAAAAAAAAAAAAAAAAAAAAAAAAAAAAAAAAAAAAAAAAAAAAAAAAAAAAAAAAAAAAAAAAAAAAAAAAAAAAAAAAAAAAAAAAAAAAAAAAAAAAAAAAAAAAAAAAAAAAAAAAAAAAAAAAAAAAAAAAAAAAAAAAAAAAAAAAAAAAAAAAAAAAAAAAAAAAAAAAAAAAAAAAAAAAAAAAAAAAAAAAAAAAAAAAAAAAAAAAAAAAAAAAAAAAAAAAAAAAAAAAAAAAAAAAAAAAAAAAAAAAAAAAAAAAAAAAAAAAAAAAAAAAAAAAAAAAAAAAAAAAAAAAAAAAAAAAAAAAAAAAAAAAAAAAAAAAAAAAAAAAAAAAAAAAAAAAAAAAAAAAAAAAAAAAAAAAAAAAAAAAAAAAAAAAAAAAAAAAAAAAAAAAAAAAAAAAAAAAAAAAAAAAAAAAAAAAAAAAAAAAAAAAAAAAAAAAAAAAAAAAAAAAAAAAAAAAAAAAAAAAAAAAAAAAAAAAAAAAAAAAAAAAAAAAAAAAAAAAAAAAAAAAAAAAAAAAAAAAAAAAAAAAAAAAAAAAAAAAAAAAAAAAAAAAAAAAAAAAAAAAAAAAAAAAAAAAAAAAAAAAAAAAAAAAAAAAAAAAAAAAAAAAAAAAAAAAAAAAAAAAAAAAAAAAAAAAAAAAAAAAAAAAAAAAAAAAAAAAAAAAAAAAAAAAAAAAAAAAAAAAAAAAAAAAAAAAAAAAAAAAAAAAAAAAAAAAAAAAAAAAAAAAAAAAAAAAAAAAAAAAAAAAAAAAAAAAAAAAAAAAAAAAAAAAAAAAAAAAAAAAAAAAAAAAAAAAAAAAAAAAAAAAAAAAAAAAAAAAAAAAAAAAAAAAAAAAAAAAAAAAAAAAAAAAAAAAAAAAAAAAAAAAAAAAAAAAAAAAAAAAAAAAAAAAAAAAAAAAAAAAAAAAAAAAAAAAAAAAAAAAAAAAAAAAAAAAAAAAAAAAAAAAAAAAAAAAAAAAAAAAAAAAAAAAAAAAAAAAAAAAAAAAAAAAAAAAAAAAAAAAAAAAAAAAAAAAAAAAAAAAAAAAAAAAAAAAAAAAAAAAAAAAAAAAAAAAAAAAAAAAAAAAAAAAAAAAAAAAAAAAAAAAAAAAAAAAAAAAAAAAAAAAAAAAAAAAAAAAAAAAAAAAAAAAAAAAAAAAAAAAAAAAAAAAAAAAAAAAAAAAAAAAAAAAAAAAAAAAAAAAAAAAAAAAAAAAAAAAAAAAAAAAAAAAAAAAAAAAAAAAAAAAAAAAAAAAAAAAAAAAAAAAAAAAAAAAAAAAAAAAAAAAAAAAAAAAAAAAAAAAAAAAAAAAAAAAAAAAAAAAAAAAAAAAAAAAAAAAAAAAAAAAAAAAAAAAAAAAAAAAAAAAAAAAAAAAAAAAAAAAAAAAAAAAAAAAAAAAAAAAAAAAAAAAAAAAAAAAAAAAAAAAAAAAAAAAAAAAAAAAAAAAAAAAAAAAAAAAAAAAAAAAAAAAAAAAAAAAAAAAAAAAAAAAAAAAAAAAAAAAAAAAAAAAAAAAAAAAAAAAAAAAAAAAAAAAAAAAAAAAAAAAAAAAAAAAAAAAAAAAAAAAAAAAAAAAAAAAAAAAAAAAAAAAAAAAAAAAAAAAAAAAAAAAAAAAAAAAAAAAAAAAAAAAAAAAAAAAAAAAAAAAAAAAAAAAAAAAAAAAAAAAAAAAAAAAAAAAAAAAAAAAAAAAAAAAAAAAAAAAAAAAAAAAAAAAAAAAAAAAAAAAAAAAAAAAAAAAAAAAAAAAAAAAAAAAAAAAAAAAAAAAAAAAAAAAAAAAAAAAAAAAAAAAAAAAAAAAAAAAAAAAAAAAAAAAAAAAAAAAAAAAAAAAAAAAAAAAAAAAAAAAAAAAAAAAAAAAAAAAAAAAAAAAAAAAAAAAAAAAAAAAAAAAAAAAAAAAAAAAAAAAAAAAAAAAAAAAAAAAAAAAAAAAAAAAAAAAAAAAAAAAAAAAAAAAAAAAAAAAAAAAAAAAAAAAAAAAAAAAAAAAAAAAAAAAAAAAAAAAAAAAAAAAAAAAAAAAAAAAAAAAAAAAAAAAAAAAAAAAAAAAAAAAAAAAAAAAAAAAAAAAAAAAAAAAAAAAAAAAAAAAAAAAAAAAAAAAAAAAAAAAAAAAAAAAAAAAAAAAAAAAAAAAAAAAAAAAAAAAAAAAAAAAAAAAAAAAAAAAAAAAAAAAAAAAAAAAAAAAAAAAAAAAAAAAAAAAAAAAAAAAAAAAAAAAAAAAAAAAAAAAAAAAAAAAAAAAAAAAAAAAAAAAAAAAAAAAAAAAAAAAAAAAAAAAAAAAAAAAAAAAAAAAAAAAAAAAAAAAAAAAAAAAAAAAAAAAAAAAAAAAAAAAAAAAAAAAAAAAAAAAADIwMTQ6MTI6MDQgMDc6Mzc6MTYAMjAxNDoxMjowNCAwNzozNzoxNgAAAEEAbQB5ACAAWQBhAG4AZwAAAP/hCxtodHRwOi8vbnMuYWRvYmUuY29tL3hhcC8xLjAvADw/eHBhY2tldCBiZWdpbj0n77u/JyBpZD0nVzVNME1wQ2VoaUh6cmVTek5UY3prYzlkJz8+DQo8eDp4bXBtZXRhIHhtbG5zOng9ImFkb2JlOm5zOm1ldGEvIj48cmRmOlJERiB4bWxuczpyZGY9Imh0dHA6Ly93d3cudzMub3JnLzE5OTkvMDIvMjItcmRmLXN5bnRheC1ucyMiPjxyZGY6RGVzY3JpcHRpb24gcmRmOmFib3V0PSJ1dWlkOmZhZjViZGQ1LWJhM2QtMTFkYS1hZDMxLWQzM2Q3NTE4MmYxYiIgeG1sbnM6ZGM9Imh0dHA6Ly9wdXJsLm9yZy9kYy9lbGVtZW50cy8xLjEvIi8+PHJkZjpEZXNjcmlwdGlvbiByZGY6YWJvdXQ9InV1aWQ6ZmFmNWJkZDUtYmEzZC0xMWRhLWFkMzEtZDMzZDc1MTgyZjFiIiB4bWxuczp4bXA9Imh0dHA6Ly9ucy5hZG9iZS5jb20veGFwLzEuMC8iPjx4bXA6Q3JlYXRlRGF0ZT4yMDE0LTEyLTA0VDA3OjM3OjE2LjE4MzwveG1wOkNyZWF0ZURhdGU+PC9yZGY6RGVzY3JpcHRpb24+PHJkZjpEZXNjcmlwdGlvbiByZGY6YWJvdXQ9InV1aWQ6ZmFmNWJkZDUtYmEzZC0xMWRhLWFkMzEtZDMzZDc1MTgyZjFiIiB4bWxuczpkYz0iaHR0cDovL3B1cmwub3JnL2RjL2VsZW1lbnRzLzEuMS8iPjxkYzpjcmVhdG9yPjxyZGY6U2VxIHhtbG5zOnJkZj0iaHR0cDovL3d3dy53My5vcmcvMTk5OS8wMi8yMi1yZGYtc3ludGF4LW5zIyI+PHJkZjpsaT5BbXkgWWFuZzwvcmRmOmxpPjwvcmRmOlNlcT4NCgkJCTwvZGM6Y3JlYXRvcj48L3JkZjpEZXNjcmlwdGlvbj48L3JkZjpSREY+PC94OnhtcG1ldGE+DQogICAgICAgICAgICAgICAgICAgICAgICAgICAgICAgICAgICAgICAgICAgICAgICAgICAgICAgICAgICAgICAgICAgICAgICAgICAgICAgICAgICAgICAgICAgICAgICAgICAgCiAgICAgICAgICAgICAgICAgICAgICAgICAgICAgICAgICAgICAgICAgICAgICAgICAgICAgICAgICAgICAgICAgICAgICAgICAgICAgICAgICAgICAgICAgICAgICAgICAgICAKICAgICAgICAgICAgICAgICAgICAgICAgICAgICAgICAgICAgICAgICAgICAgICAgICAgICAgICAgICAgICAgICAgICAgICAgICAgICAgICAgICAgICAgICAgICAgICAgICAgIAogICAgICAgICAgICAgICAgICAgICAgICAgICAgICAgICAgICAgICAgICAgICAgICAgICAgICAgICAgICAgICAgICAgICAgICAgICAgICAgICAgICAgICAgICAgICAgICAgICAgCiAgICAgICAgICAgICAgICAgICAgICAgICAgICAgICAgICAgICAgICAgICAgICAgICAgICAgICAgICAgICAgICAgICAgICAgICAgICAgICAgICAgICAgICAgICAgICAgICAgICAKICAgICAgICAgICAgICAgICAgICAgICAgICAgICAgICAgICAgICAgICAgICAgICAgICAgICAgICAgICAgICAgICAgICAgICAgICAgICAgICAgICAgICAgICAgICAgICAgICAgIAogICAgICAgICAgICAgICAgICAgICAgICAgICAgICAgICAgICAgICAgICAgICAgICAgICAgICAgICAgICAgICAgICAgICAgICAgICAgICAgICAgICAgICAgICAgICAgICAgICAgCiAgICAgICAgICAgICAgICAgICAgICAgICAgICAgICAgICAgICAgICAgICAgICAgICAgICAgICAgICAgICAgICAgICAgICAgICAgICAgICAgICAgICAgICAgICAgICAgICAgICAKICAgICAgICAgICAgICAgICAgICAgICAgICAgICAgICAgICAgICAgICAgICAgICAgICAgICAgICAgICAgICAgICAgICAgICAgICAgICAgICAgICAgICAgICAgICAgICAgICAgIAogICAgICAgICAgICAgICAgICAgICAgICAgICAgICAgICAgICAgICAgICAgICAgICAgICAgICAgICAgICAgICAgICAgICAgICAgICAgICAgICAgICAgICAgICAgICAgICAgICAgCiAgICAgICAgICAgICAgICAgICAgICAgICAgICAgICAgICAgICAgICAgICAgICAgICAgICAgICAgICAgICAgICAgICAgICAgICAgICAgICAgICAgICAgICAgICAgICAgICAgICAKICAgICAgICAgICAgICAgICAgICAgICAgICAgICAgICAgICAgICAgICAgICAgICAgICAgICAgICAgICAgICAgICAgICAgICAgICAgICAgICAgICAgICAgICAgICAgICAgICAgIAogICAgICAgICAgICAgICAgICAgICAgICAgICAgICAgICAgICAgICAgICAgICAgICAgICAgICAgICAgICAgICAgICAgICAgICAgICAgICAgICAgICAgICAgICAgICAgICAgICAgCiAgICAgICAgICAgICAgICAgICAgICAgICAgICAgICAgICAgICAgICAgICAgICAgICAgICAgICAgICAgICAgICAgICAgICAgICAgICAgICAgICAgICAgICAgICAgICAgICAgICAKICAgICAgICAgICAgICAgICAgICAgICAgICAgICAgICAgICAgICAgICAgICAgICAgICAgICAgICAgICAgICAgICAgICAgICAgICAgICAgICAgICAgICAgICAgICAgICAgICAgIAogICAgICAgICAgICAgICAgICAgICAgICAgICAgICAgICAgICAgICAgICAgICAgICAgICAgICAgICAgICAgICAgICAgICAgICAgICAgICAgICAgICAgICAgICAgICAgICAgICAgCiAgICAgICAgICAgICAgICAgICAgICAgICAgICAgICAgICAgICAgICAgICAgICAgICAgICAgICAgICAgICAgICAgICAgICAgICAgICAgICAgICAgICAgICAgICAgICAgICAgICAKICAgICAgICAgICAgICAgICAgICAgICAgICAgICAgICAgICAgICAgICAgICAgICAgICAgICAgICAgICAgICAgICAgICAgICAgICAgICAgICAgICAgICAgICAgICAgICAgICAgIAogICAgICAgICAgICAgICAgICAgICAgICAgICAgICAgICAgICAgICAgICAgICAgICAgICAgICAgICAgICAgICAgICAgICAgICAgICAgICAgICAgICAgICAgICAgICAgICAgICAgCiAgICAgICAgICAgICAgICAgICAgICAgICAgICAgICAgICAgICAgICAgICAgICAgICAgICAgICAgICAgICAgICAgICAgICAgICAgICAgICAgICAgICAgICAgICAgICAgICAgICAKICAgICAgICAgICAgICAgICAgICAgICAgICAgIDw/eHBhY2tldCBlbmQ9J3cnPz7/2wBDAAcFBQYFBAcGBQYIBwcIChELCgkJChUPEAwRGBUaGRgVGBcbHichGx0lHRcYIi4iJSgpKywrGiAvMy8qMicqKyr/2wBDAQcICAoJChQLCxQqHBgcKioqKioqKioqKioqKioqKioqKioqKioqKioqKioqKioqKioqKioqKioqKioqKioqKir/wAARCAC/AMEDASIAAhEBAxEB/8QAHwAAAQUBAQEBAQEAAAAAAAAAAAECAwQFBgcICQoL/8QAtRAAAgEDAwIEAwUFBAQAAAF9AQIDAAQRBRIhMUEGE1FhByJxFDKBkaEII0KxwRVS0fAkM2JyggkKFhcYGRolJicoKSo0NTY3ODk6Q0RFRkdISUpTVFVWV1hZWmNkZWZnaGlqc3R1dnd4eXqDhIWGh4iJipKTlJWWl5iZmqKjpKWmp6ipqrKztLW2t7i5usLDxMXGx8jJytLT1NXW19jZ2uHi4+Tl5ufo6erx8vP09fb3+Pn6/8QAHwEAAwEBAQEBAQEBAQAAAAAAAAECAwQFBgcICQoL/8QAtREAAgECBAQDBAcFBAQAAQJ3AAECAxEEBSExBhJBUQdhcRMiMoEIFEKRobHBCSMzUvAVYnLRChYkNOEl8RcYGRomJygpKjU2Nzg5OkNERUZHSElKU1RVVldYWVpjZGVmZ2hpanN0dXZ3eHl6goOEhYaHiImKkpOUlZaXmJmaoqOkpaanqKmqsrO0tba3uLm6wsPExcbHyMnK0tPU1dbX2Nna4uPk5ebn6Onq8vP09fb3+Pn6/9oADAMBAAIRAxEAPwD6RooqjrWs2Ph7RrnVdWnEFpbJukc/kAB3JOAB3JFVCMpyUYq7YF6iuCTSPFPjYC71vU73wvpTndb6ZpziO7ZezTzclSecxr0BAJyDTj8F/AjS+bJo80k3UytqFyXJ9c+ZXf8AV8NT92tVd+0Y81vVuUV9115kXk9kd3RXCP4Z8T+E83fhHWrrWrZTuk0bWZ/MLj0hnPzRnAwA2V55rp/D3iGx8TaOmoaczhdxjmhmXZLbyrw0ci/wsp6j8RkEGsa2G5Ie0py5o910fZrp5bp9HoxqXRmpRRRXIUFFFFABRRRQAUUUUAFFFFABRRRQAUUVwr6zrnjq7mt/B94ulaFBIYptbMYkkunBwy2yn5dowQZTkZPyg4zXRQw8q13dKK3b2X637JJv8RN2O6orhG+DnhO8QNrqalrlyOt1qOpTvIw7D5WUcewpT8Nf7HAl8Da/qehyR8paSTtdWbHvuikJPI4yGBHUV0exwb0jWd/ONo/epN/+Sk3l2O6ormfDHimfUb2fQ/ENqmn+IbJA81ujZiuIycCeEnloyfXlT8p569NXJWozoz5J7/n5p9Uyk7hRRRWQwrhdUT/hJvi5YaVMu/TfD1qNTlUYKtduxSEMD/dUO4x3Nd1XDaEBY/GvxZbzv+91Kwsby3X1jjEkTH8GI/OvQwXuqrUXxRi7fNqL+5NsiXRHcE7VJweBngZrzr/hMvFlla6Vrms2FjaaXqepR2Y0t4JUvbdJX2RuzltpfOGKbBgHG7Ir0SWQRQvIVZgiliEUknHoB1NeX6DqieI/ElrrvjGw1uK6imI0rSm0G9EOn7iVEkj+VsaUjGWJ2oCcdyfPj8S/r+r7eRb+F/1/Vj1KuFnX/hG/jJZvbBhaeKraSO4jUfKt1bruWQntmPcuB12gmu6rz34j2X9t+LfBmhx3l1Yy3F3cXH2qzfZLEkUDZ2tggZLKOnevRy60qsqcn7soyv8AKLd/k0n8iJ7XPQqK4f8A4VnL/wBD54y/8GKf/G6P+FZy/wDQ+eMv/Bin/wAbpfV8L/z+/wDJWF5djuKK4f8A4VnL/wBD54y/8GKf/G6P+FZy/wDQ+eMv/Bin/wAbo+r4X/n9/wCSsLy7HcUVw/8AwrOX/ofPGX/gxT/43R/wrOX/AKHzxl/4MU/+N0fV8L/z+/8AJWF5djuKK4f/AIVnL/0PnjL/AMGKf/G6P+FZy/8AQ+eMv/Bin/xuj6vhf+f3/krC8ux3FFcP/wAKzl/6Hzxl/wCDFP8A43R/wrOX/ofPGX/gxT/43R9Xwv8Az+/8lYXl2O4orh/+FZy/9D54y/8ABin/AMbo/wCFZy/9D54y/wDBin/xuj6vhf8An9/5KwvLsSfE+9uV8N2miWEjQ3PiG+i0sSoATFHJkyvg+iKw/Gus0+wttL023sLCIQ21tEsUUY6KqjAH5V5drvhdvCXi/wAHatceINb1iBtXFoY9UuVmWNpYnVGUBVwc9/pXrNa4yMaWHpQpSvF3d7Wu72/BJff5hHVts47xPrXijSo9X1O2i0uy0jSYBMpvwXe/wu5wrJIBCOigsrknJ24xnqNOuzf6Xa3jQvAbiFJTFIMNHuUHafcZxXIeMby0vo9R0nxF4UvL4Rrv0qa2spLvznMZG5XRCLeRWJUFmXHDBsZx0PhO11Sx8H6Ta+IJ/tGqQ2kaXUu/dvkCjcS3c57968qOz+X63/4Pb5ly3Xz/AEt/XX5HO/FKB7DQ7XxbYITqPhydbpNoGZIGISaM/wCyUJP/AAEV20UqTwpNCweORQysOhB5BrmPiffQ6f8ACzxHNcfdewkgH+9IPLX/AMeYVt6DZy6f4c02ynJMttaRROSc/MqAH9RXo1PewNOUt1KSXpZO3ybv/wBvEL4mX6KKK84sK4/xtpV9Bfaf4s0CBrjUtI3rNax/evbR/wDWRD1YYDIOm4dDmuworehWlQqKaV+67p6NfNCaurGfoeu6d4j0mLUtHukubaXoy9VPdWHVWHcHkVoVyer/AA/srvVpNZ0O/vPD+ry8y3WnuAtwRnHmxMCknXPIz71zZTx/H4zj8LHxtas0mmvf/bzose8bZVTZsD7f4s5/Su2OEoV23RqpK17STul11imnbvo32J5mt0ei6nqljoumT6jqt1HaWluu6SaVsBR/U9gOpJwK5XwjaXmu+I7vxtqtvJai5gFppVpKCHhtQ24u46B5Gw2OoAAyak0/4d251K31TxXqt54l1G3IeFrzalvA4/ijgUBFPTk5OQCDmuxrOVSlQhKnRfNKWjlsrdo3116t2dtLWvcs27sKKKK88sKKKKACiiigAooooAKKKKACiiigDG8W+HYvFfha80iWVoHmUNDOv3oZVIZHGOeGAPuMiqPg7xU+sRyaTrSLaeI9PUJfWh434486P+9G3BBHTOD79PWF4l8H6T4pSFtRjliu7Yk2t9aymK4tmPdHHI+hyPau2jWpun7CtflvdNbp9dOqdldeSa7OWne6N2ivNfEVh448IeGtT1ax8bjULawt2ljttQ0yNpCqjODKpXJwOpXmrNn4G1TxLp0Evjbxdf6rZzxrIdPtIlsoXVlyUk8v5nHP94dK3+o0ow9rKtHlvbRSb72ScUr69Wl5i5ne1gvbhPiP4ptdP05hL4b0W5W4v7peY7y4TmOBD0ZVOGfqOFHHWvQagsrK102xis9Pt47a2hXZHFEoVUHoAKnrlxFdVOWEFaEdl+bfm/8AJdBpW3CiiiuUoKKKKACuLl/5Lva/9i3N/wClMVdpXFy/8l3tf+xbm/8ASmKu/Bb1P8MvyJl0O0ooorgKCiiigAooooAKKKKACiiigAooooAKKKKACiiigDl/iX/yS7xJ/wBg6b/0A1taJ/yL+nf9esX/AKAKxfiX/wAku8Sf9g6b/wBANbWif8i/p3/XrF/6AK75f7jH/G/yiR9ovUUUVwFhRRRQAUUUUAFcXL/yXe1/7Fub/wBKYq7SuLl/5Lva/wDYtzf+lMVd+C3qf4ZfkTLodpRRRXAUFFFFABRRRQAUUUUAFFFFABRRRQAUUUUAFFFFAHL/ABL/AOSXeJP+wdN/6Aa2tE/5F/Tv+vWL/wBAFYvxL/5Jd4k/7B03/oBra0T/AJF/Tv8Ar1i/9AFd8v8AcY/43+USPtF6iiiuAsKKKKACiiigAri5f+S72v8A2Lc3/pTFXaVxcv8AyXe1/wCxbm/9KYq78FvU/wAMvyJl0O0ooorgKCiiigAooooAKKKKACiiigAooooAKKKKACiiigDl/iX/AMku8Sf9g6b/ANANbWif8i/p3/XrF/6AKxfiX/yS7xJ/2Dpv/QDW1on/ACL+nf8AXrF/6AK75f7jH/G/yiR9ovUUUVwFhRRRQAUUUUAFcXL/AMl3tf8AsW5v/SmKu0ri5f8Aku9r/wBi3N/6UxV34Lep/hl+RMuh2lFFFcBQUUUUAFFFFABRRRQAUUUUAFFFFABRRRQAUUUUAcv8S/8Akl3iT/sHTf8AoBra0T/kX9O/69Yv/QBWL8S/+SXeJP8AsHTf+gGtrRP+Rf07/r1i/wDQBXfL/cY/43+USPtF6iiiuAsKKKKACiiigAri5f8Aku9r/wBi3N/6UxV2lcXL/wAl3tf+xbm/9KYq78FvU/wy/ImXQ7SiiiuAoKKKKACiiigAooooAKKKKACiiigAooooAKKKKAOX+Jf/ACS7xJ/2Dpv/AEA1taJ/yL+nf9esX/oArF+Jf/JLvEn/AGDpv/QDW1on/Iv6d/16xf8AoArvl/uMf8b/ACiR9ovUUUVwFhRRRQAUUUUAFcXL/wAl3tf+xbm/9KYq7SuLl/5Lva/9i3N/6UxV34Lep/hl+RMuh2lFFFcBQUUUUAFFFFABRRRQAUUUUAFFFFABRRRQAUUUUAcv8S/+SXeJP+wdN/6Aa2tE/wCRf07/AK9Yv/QBWL8S/wDkl3iT/sHTf+gGtrRP+Rf07/r1i/8AQBXfL/cY/wCN/lEj7ReooorgLCiiigAoJABJOAOpNFcP4zll8ReJ9N8DW0zxW91C19q7RsVZrNW2CIEc/vHO04IO0H1row9D29TlvZK7b7Jat/5Lq9BN2QkvjXWfENxLb/DrSYL2CJmRtZ1GQx2W4cYj25ebkEErgAjqQapnwX44l8QJ4jk8WaZHqiWbWggj0kmERs4crkybuqjnGeK9Bt7eG0tYra0hSGCFAkcUahVRQMAADoAO1VW1rTk1+PRDdp/aUlu10tsMlvKVgpc+gywAz15xnBx1LHeyfLh4JLbVKTa63vdfckTyX3OT/wCEv8R+GCp8f6Pb/YSfm1fRmeSCHJ482NvnQerfMORXbwzRXNvHPbypLDKoeOSNgyupGQQR1BHenMquhR1DKwwQRkEVwvh5T4N8ezeE1JGjanC99pCk8QOrfv7dfb5g4HAAJHNJxp4qEpQiozir2WzXWy6Nb9mr7W1NYnd0UUV5xYUUUUAFFFFABRRRQAUUUUAFFFFABXLa941Fhqp0Tw/ps2va4FDvaW7hI7dT0aaU8RgjkDknjjkGpfHniKfw34Vkn05Fl1O7lSy0+Jv47iU7U6+nLY7hTVnwn4at/C2hJZROZ7mQma8u3+/dTty8jHqST69BgV30adOnS9vWV7u0V3tu3bWyutrXfVWZLbbsjl9U8MfEDxXo15p+ueINF0i2u42ieDT7B7jchyCC8jqQcHqBU0M3xA8K20aXdjpvibTLZVT/AIl+63vAg/i8tyUcgD7oYEmuu1vXNN8OaRLqet3aWlnCVDyuCcFiAAAASSSQMAVfByMjvV/2jNx5JQi4duVL8VaX4i5FffUzPD/iHTvE2lC/0qYugYxyxuu2SCQfejkU8qw7g/XkEGtOuB8aIPBuv2vjixxDavLHaa7GOFmgZgiTEd3jZhzjJUkZxXfVjiaMIqNWl8Er27prdP0uteqaemw0+jCiiiuMoK4fw7vk+MvjRrhQWitdPjtyeojKSFgPbdn8q7iuE8Vt/wAIr490vxjJkaZPb/2Tqjk8W6s+6GY9gA5KsxPAcV6GB9/2lFbzjZeqalb1drL1Il0Z3deeQaHp2kfHm3n0+2Ec19ot3PcyszO8z+fByzMScAcAZwBwABXoYIIyDkGqT6RYya7FrLwZv4bd7ZJt7cRsysy4zjkqpzjPFeetJJ+v4pr87FvWLXp+Zdrz/wCIv21PFvgqbQ4raXV1vrhbdLpisZQ27+ZuKgkDAHQHtXoFcHp7r4w+KTaxAA+k+GoZLS1mxxNdy4EzKe6ogCfUnGa9HL3yVJVn8MYyv804pfNv7r9iJ6qxe8/4j/8AQO8Lf+B9x/8AGaPP+I//AEDvC3/gfcf/ABmuuorP61H/AJ9R+5/5j5fM5Hz/AIj/APQO8Lf+B9x/8Zo8/wCI/wD0DvC3/gfcf/Ga66ij61H/AJ9R+5/5hy+ZyPn/ABH/AOgd4W/8D7j/AOM0ef8AEf8A6B3hb/wPuP8A4zXXUUfWo/8APqP3P/MOXzOR8/4j/wDQO8Lf+B9x/wDGaPP+I/8A0DvC3/gfcf8Axmuuoo+tR/59R+5/5hy+ZyPn/Ef/AKB3hb/wPuP/AIzR5/xH/wCgd4W/8D7j/wCM111FH1qP/PqP3P8AzDl8zkfP+I//AEDvC3/gfcf/ABmjz/iP/wBA7wt/4H3H/wAZrrqKPrUf+fUfuf8AmHL5nlviB/E0/jTwXD4uttJgsP7VLodPnklJmWFzHuDouOemM16lXKfEXQ7zWfCyzaQofVdJuYtSsEbo8sRztI77lLL9SK2PDuvWXibQLXVtNYmG4TJRvvRt0ZGHZlOQR7Vvipe3w1OpFJKN4tLZO90/mn+DFHSTR5P8YtQTVrLWoNVsdUjtNHjX7CP7LuHhuLhiu6cyiMxhUVii5bqXP92vZLK5S8sYLiJZVSVAyiWJonAI7owDKfYgGotX0my13SZ9N1WDz7S4ULLHvZdwyD1UgjkDoauAYGB2ry1orFvV3OY+JUcEvwu8SLdY2DTZmGf74QlP/HgK1fDsk8vhbSpLvP2h7OFpc/3igz+tcr8RH/4SS5sPAdkd8upyJPqLKf8Aj2so3DMxI6F2UIuRg5Nd4AAMAYAr0aq9ng6cJbtuXyskn82n9yIWsmFFFFecWFR3NtBeWsttdxJNBMhjkikUMrqRggg9QRUlFNNp3QHBponizwUDH4ReDXtETPlaRfzmKe2HZIpzkFeejjgAAGpx471tR5Evw+18XucbEaBoeoH+t8zHf0rtaK73jY1Na1NSl31TfrZpPzdrvqyOW2zOEax8beMVEOt+T4T0luJrWzuBPeTjupmACxqePu5bgjPNdjpmmWWjaZb6dpdslraWyBIooxgKP6nuSeSeTVqisa2JlVSgkoxXRbfjdt+bbY1GwUUUVylBRRRQAUUUUAFFFFABRRRQAUUUUAFcdqnhDUrDWJ9b8CX8Gn3ty2+8sLtC1nev03sF5jf1deuBkHk12NFb0a86Dbj13T1TXmv6tutRNJnEp418SWR2a78P9VVs4V9LuIbtX5Az95SoPuOKY2sePtfzBpXh2Dw3A4GdQ1S4WeRVPB2QR/xDqNzAcc13NFdP1uktY0Yp/wDbzX3OTX33XkTyvuYnhnwta+GradkmlvdQvHEl9qFycy3LgYBJ7KBwqjhR07k7dFFcdSrOrNzm7tlJW0QUUUVmM//Z)\n"
      ],
      "metadata": {
        "id": "_jPsX_8vhGkL"
      }
    },
    {
      "cell_type": "markdown",
      "source": [
        "## Práctica 2.10\n",
        "* Mira estos vídeos:\n",
        " - [¿Puedes dibujarlo sin despegar el lápiz?](https://youtu.be/IZ0-xFrlvag)\n",
        " - [USA esta LÓGICA cuando NO PUEDAS con un PROBLEMA](https://youtu.be/5Ncb7eU0LkQ)\n",
        "* Caso 1: dibuja un grafo en el que si sea posible y resuélvelo\n",
        "* Caso 2: dibuja un grafo en el que no sea posible y di el motivo"
      ],
      "metadata": {
        "id": "4wcsNU_-kQM-"
      }
    }
  ]
}