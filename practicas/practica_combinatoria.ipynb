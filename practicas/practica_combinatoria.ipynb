{
  "nbformat": 4,
  "nbformat_minor": 0,
  "metadata": {
    "colab": {
      "provenance": [],
      "include_colab_link": true
    },
    "kernelspec": {
      "name": "python3",
      "display_name": "Python 3"
    },
    "language_info": {
      "name": "python"
    }
  },
  "cells": [
    {
      "cell_type": "markdown",
      "metadata": {
        "id": "view-in-github",
        "colab_type": "text"
      },
      "source": [
        "<a href=\"https://colab.research.google.com/github/CeliaCaceres/matematicas/blob/main/practicas/practica_combinatoria.ipynb\" target=\"_parent\"><img src=\"https://colab.research.google.com/assets/colab-badge.svg\" alt=\"Open In Colab\"/></a>"
      ]
    },
    {
      "cell_type": "markdown",
      "source": [
        "# Práctica 1. Combinatoria\n",
        "Resuelva los siguientes apartados de la práctica.  \n",
        "La práctica 1.1 se proporciona solucionada para que pueda servir como ejemplo.\n"
      ],
      "metadata": {
        "id": "VP-PLgSCPtPC"
      }
    },
    {
      "cell_type": "markdown",
      "source": [
        "## Práctica 1.1\n",
        "Cuatro amigos:\n",
        "* Antonio (A)\n",
        "* Begoña (B)\n",
        "* Cesar (C)\n",
        "* Diana (D)\n",
        "\n",
        "constituyen una asociación y tienen que asignar los siguientes cargos:\n",
        "* Presiente (1)\n",
        "* Vicepresidente (2)\n",
        "* Secretario (3)\n",
        "* Tesorero (4)\n",
        "\n",
        "Se pide:\n",
        "1. Escribiendo la solución en una celda de Markdown analice el caso indicando si se trata de variaciones, permutaciones o combinaciones, con o sin repetición o el caso que sea, y el motivo para clasificar el caso de esta forma.\n",
        "2. Utilizando fórmulas de $\\LaTeX$ calcule cuántos casos existen.\n",
        "3. Cree un programa en Python para calcule cuántos casos existen.\n",
        "4. Cree un programa en Python para imprimir todas las posibilidades y numérelas. Por ejemplo:\n",
        "    - 1 ABCD\n",
        "    - 2 ABDC\n",
        "    - 3 ACBD\n",
        "    - &#20; &#20; &#20; ... ... ..."
      ],
      "metadata": {
        "id": "6oyoxqfbQJDC"
      }
    },
    {
      "cell_type": "markdown",
      "source": [
        "### Solución 1.1\n",
        "* Estamos ante un caso de **permutaciones sin repetición** ya que:\n",
        " - El orden importa, no es lo mismo estar el nº1 que significa ser presidente que el nº 4 que corresponde al tesorero.\n",
        " - Intervienen todos. Son 4 amigos para 4 cargos, todos tienen cargo, lo que cambiar es el orden, esto es, el cargo que obtengan.\n",
        " - No se repiten elementos. Una persona no puede tener dos cargos simultaneamente.\n",
        "* Los casos que se obtienen con las permutaciones sin repetición son $P_{n}=n!$ que para este ejemplo son:\n",
        "\n",
        "$$P_{4}=4!=4 \\cdot 3 \\cdot 2 \\cdot 1 = 24$$"
      ],
      "metadata": {
        "id": "t5unIqR7jdZR"
      }
    },
    {
      "cell_type": "code",
      "source": [
        "import math\n",
        "p = math.factorial(4)\n",
        "print(\"Los casos son: \", p)\n",
        "print(\"Comprobación:  \", 4*3*2*1)"
      ],
      "metadata": {
        "id": "va3_l_-hmFS-"
      },
      "execution_count": null,
      "outputs": []
    },
    {
      "cell_type": "markdown",
      "source": [
        "#### Método 1\n",
        "Sin usar librería."
      ],
      "metadata": {
        "id": "kOM3pEAGnh8v"
      }
    },
    {
      "cell_type": "code",
      "source": [
        "lista = ['A', 'B', 'C', 'D']\n",
        "contador = 1\n",
        "\n",
        "for i in lista:\n",
        "    for j in lista:\n",
        "        for k in lista:\n",
        "            for l in lista:\n",
        "                if i != j and i != k and i != l and j != k and j != l and k != l:\n",
        "                    print(f\"{contador:2d} →  {i+j+k+l}\")\n",
        "                    contador += 1"
      ],
      "metadata": {
        "id": "5--ZpSoJncj3"
      },
      "execution_count": null,
      "outputs": []
    },
    {
      "cell_type": "markdown",
      "source": [
        "#### Método 2\n",
        "* Usamos la función `permutations` de la librería `itertools`.\n",
        "* Imprimimos todas las permutaciones de los elementos de una lista."
      ],
      "metadata": {
        "id": "2PoCD5GlnwS1"
      }
    },
    {
      "cell_type": "code",
      "source": [
        "from itertools import permutations\n",
        "\n",
        "perm = permutations(['A','B','C','D'])   # obtenemos todas las permutaciones de la lista \n",
        "\n",
        "for i in list(perm):                     # imprimimos todas las permutaciones \n",
        "    print (*i) \n",
        "                "
      ],
      "metadata": {
        "id": "eKkB1gQnn6_P"
      },
      "execution_count": null,
      "outputs": []
    },
    {
      "cell_type": "markdown",
      "source": [
        "## Práctica 1.2\n",
        "Cuatro amigos:\n",
        "* Antonio (A)\n",
        "* Begoña (B)\n",
        "* Cesar (C)\n",
        "* Diana (D)\n",
        "\n",
        "constituyen una asociación y tienen que asignar los siguientes cargos:\n",
        "* Presiente (1)\n",
        "* Secretario (3)\n",
        "* Tesorero (4)\n",
        "\n",
        "Se pide:\n",
        "1. Escribiendo la solución en una celda de Markdown analice el caso indicando si se trata de variaciones, permutaciones o combinaciones, con o sin repetición o el caso que sea, y el motivo para clasificar el caso de esta forma.\n",
        "2. Utilizando fórmulas de $\\LaTeX$ calcule cuántos casos existen.\n",
        "3. Cree un programa en Python para calcule cuántos casos existen.\n",
        "4. Cree un programa en Python para imprimir todas las posibilidades y numérelas. Por ejemplo:\n",
        "    - 1 ABC\n",
        "    - 2 ABD\n",
        "    - 3 ACB\n",
        "    - &#20; &#20; &#20; ... ... ..."
      ],
      "metadata": {
        "id": "sxSuCpAFSBPJ"
      }
    },
    {
      "cell_type": "markdown",
      "source": [
        "### Solución 1.2\n",
        "\n",
        "---\n",
        "\n",
        "\n",
        "* Estamos ante un caso de **variaciones sin repetición** ya que:\n",
        " - El orden importa, puesto que no es lo mismo estar en el nº1, que significa ser presidente, que el nº 3 que corresponde al tesorero.\n",
        " - No intervienen todos, solo parte del grupo; ya que son cuatro amigos para tres puestros.\n",
        " - No se pueden repetir los elementos ya que una persona no puede tener dos cargos simultáneamente. \n",
        "* Los casos que se obtienen con las variaciones sin repetición son: ![Captura de pantalla 2022-10-16 a las 16.58.18.png](data:image/png;base64,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)\n",
        "\n",
        "  que para este ejemplo son: $$ V4,3 = \\frac{4!}{1!} = 24 $$"
      ],
      "metadata": {
        "id": "xx9qsw_ej9Pd"
      }
    },
    {
      "cell_type": "code",
      "source": [
        "import math\n",
        "variacion_uno = math.factorial(4) / math.factorial(1)\n",
        "print(\"Existen\", variacion_uno, \"casos. \")"
      ],
      "metadata": {
        "colab": {
          "base_uri": "https://localhost:8080/"
        },
        "id": "tKV3hodTEag_",
        "outputId": "61e1198d-4f33-4865-95f5-846174427154"
      },
      "execution_count": 156,
      "outputs": [
        {
          "output_type": "stream",
          "name": "stdout",
          "text": [
            "Existen 24.0 casos. \n"
          ]
        }
      ]
    },
    {
      "cell_type": "code",
      "source": [
        "import itertools\n",
        "it = itertools.permutations(['A','B','C','D'], 3)\n",
        "li = list(it)\n",
        "\n",
        "print()\n",
        "\n",
        "for i in range(len(li)):\n",
        "    print(f\" {i+1:2d}: \", *li[i])"
      ],
      "metadata": {
        "colab": {
          "base_uri": "https://localhost:8080/",
          "height": 232
        },
        "id": "_j4Re1t4FfqZ",
        "outputId": "60aa2b1d-c892-4a31-d630-cafafc3c40ab"
      },
      "execution_count": 157,
      "outputs": [
        {
          "output_type": "error",
          "ename": "TypeError",
          "evalue": "ignored",
          "traceback": [
            "\u001b[0;31m---------------------------------------------------------------------------\u001b[0m",
            "\u001b[0;31mTypeError\u001b[0m                                 Traceback (most recent call last)",
            "\u001b[0;32m<ipython-input-157-12cb9228e07c>\u001b[0m in \u001b[0;36m<module>\u001b[0;34m\u001b[0m\n\u001b[1;32m      1\u001b[0m \u001b[0;32mimport\u001b[0m \u001b[0mitertools\u001b[0m\u001b[0;34m\u001b[0m\u001b[0;34m\u001b[0m\u001b[0m\n\u001b[1;32m      2\u001b[0m \u001b[0mit\u001b[0m \u001b[0;34m=\u001b[0m \u001b[0mitertools\u001b[0m\u001b[0;34m.\u001b[0m\u001b[0mpermutations\u001b[0m\u001b[0;34m(\u001b[0m\u001b[0;34m[\u001b[0m\u001b[0;34m'A'\u001b[0m\u001b[0;34m,\u001b[0m\u001b[0;34m'B'\u001b[0m\u001b[0;34m,\u001b[0m\u001b[0;34m'C'\u001b[0m\u001b[0;34m,\u001b[0m\u001b[0;34m'D'\u001b[0m\u001b[0;34m]\u001b[0m\u001b[0;34m,\u001b[0m \u001b[0;36m3\u001b[0m\u001b[0;34m)\u001b[0m\u001b[0;34m\u001b[0m\u001b[0;34m\u001b[0m\u001b[0m\n\u001b[0;32m----> 3\u001b[0;31m \u001b[0mli\u001b[0m \u001b[0;34m=\u001b[0m \u001b[0mlist\u001b[0m\u001b[0;34m(\u001b[0m\u001b[0mit\u001b[0m\u001b[0;34m)\u001b[0m\u001b[0;34m\u001b[0m\u001b[0;34m\u001b[0m\u001b[0m\n\u001b[0m\u001b[1;32m      4\u001b[0m \u001b[0;34m\u001b[0m\u001b[0m\n\u001b[1;32m      5\u001b[0m \u001b[0mprint\u001b[0m\u001b[0;34m(\u001b[0m\u001b[0;34m)\u001b[0m\u001b[0;34m\u001b[0m\u001b[0;34m\u001b[0m\u001b[0m\n",
            "\u001b[0;31mTypeError\u001b[0m: 'list' object is not callable"
          ]
        }
      ]
    },
    {
      "cell_type": "markdown",
      "source": [
        "## Práctica 1.3\n",
        "Invente un caso de **variaciones sin repetición**.\n",
        "Se pide contestar a los mismos puntos que el caso anterior."
      ],
      "metadata": {
        "id": "D0S1DjF4MKmz"
      }
    },
    {
      "cell_type": "markdown",
      "source": [
        "### Solución 1.3\n",
        "\n",
        "---\n",
        "\n",
        "\n",
        "* En los casos de **variaciones sin repetición** contamos con que:\n",
        " - El orden importa.\n",
        " - No intervienen todos los elementos, solo parte de ellos.\n",
        " - No se pueden repetir los elementos.\n",
        "\n",
        "\n",
        "* Se presenta el caso de un campeonato de Formula 1 donde se reparten tres trofeos a los tres primeros equipos, en orden: oro, plata y bronce; y en el que participan 8 coches.\n",
        "\n",
        "1. Utilizando fórmulas de  𝐿𝐴𝑇 𝐸𝑋  calcule cuántos casos existen.\n",
        "2. Cree un programa en Python para calcular cuántos casos existen.\n",
        "3. Cree un programa en Python para imprimir todas las posibilidades y numérelas.\n",
        "* Los casos que se obtienen con las variaciones sin repetición son: ![Captura de pantalla 2022-10-16 a las 16.58.18.png](data:image/png;base64,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)\n",
        "  \n",
        "  que para este ejemplo son: $$ V_{8,3} = \\frac{8!}{5!} = 336 $$"
      ],
      "metadata": {
        "id": "AfyuPIASj_20"
      }
    },
    {
      "cell_type": "code",
      "source": [
        "import math\n",
        "variacion = math.factorial(8) / math.factorial(5)\n",
        "print(\"Existen\", variacion, \"casos. \")"
      ],
      "metadata": {
        "colab": {
          "base_uri": "https://localhost:8080/"
        },
        "id": "8IxGKhWVDeRc",
        "outputId": "0df0f532-9ea3-4c06-98c4-9157fe5a5b8f"
      },
      "execution_count": 148,
      "outputs": [
        {
          "output_type": "stream",
          "name": "stdout",
          "text": [
            "Existen 336.0 casos. \n"
          ]
        }
      ]
    },
    {
      "cell_type": "code",
      "source": [
        "import itertools\n",
        "it = itertools.permutations(['1','2','3','4','5','6','7','8'], 3)\n",
        "li = list(it)\n",
        "\n",
        "print()\n",
        "\n",
        "for i in range(len(li)):\n",
        "    print(f\" {i+1:2d}: \", *li[i])"
      ],
      "metadata": {
        "colab": {
          "base_uri": "https://localhost:8080/",
          "height": 232
        },
        "id": "4ZQJWrxDCAMc",
        "outputId": "96ead9f3-76db-4451-c3bc-765dc87a6e4c"
      },
      "execution_count": 149,
      "outputs": [
        {
          "output_type": "error",
          "ename": "TypeError",
          "evalue": "ignored",
          "traceback": [
            "\u001b[0;31m---------------------------------------------------------------------------\u001b[0m",
            "\u001b[0;31mTypeError\u001b[0m                                 Traceback (most recent call last)",
            "\u001b[0;32m<ipython-input-149-9e38d4ddae55>\u001b[0m in \u001b[0;36m<module>\u001b[0;34m\u001b[0m\n\u001b[1;32m      1\u001b[0m \u001b[0;32mimport\u001b[0m \u001b[0mitertools\u001b[0m\u001b[0;34m\u001b[0m\u001b[0;34m\u001b[0m\u001b[0m\n\u001b[1;32m      2\u001b[0m \u001b[0mit\u001b[0m \u001b[0;34m=\u001b[0m \u001b[0mitertools\u001b[0m\u001b[0;34m.\u001b[0m\u001b[0mpermutations\u001b[0m\u001b[0;34m(\u001b[0m\u001b[0;34m[\u001b[0m\u001b[0;34m'1'\u001b[0m\u001b[0;34m,\u001b[0m\u001b[0;34m'2'\u001b[0m\u001b[0;34m,\u001b[0m\u001b[0;34m'3'\u001b[0m\u001b[0;34m,\u001b[0m\u001b[0;34m'4'\u001b[0m\u001b[0;34m,\u001b[0m\u001b[0;34m'5'\u001b[0m\u001b[0;34m,\u001b[0m\u001b[0;34m'6'\u001b[0m\u001b[0;34m,\u001b[0m\u001b[0;34m'7'\u001b[0m\u001b[0;34m,\u001b[0m\u001b[0;34m'8'\u001b[0m\u001b[0;34m]\u001b[0m\u001b[0;34m,\u001b[0m \u001b[0;36m3\u001b[0m\u001b[0;34m)\u001b[0m\u001b[0;34m\u001b[0m\u001b[0;34m\u001b[0m\u001b[0m\n\u001b[0;32m----> 3\u001b[0;31m \u001b[0mli\u001b[0m \u001b[0;34m=\u001b[0m \u001b[0mlist\u001b[0m\u001b[0;34m(\u001b[0m\u001b[0mit\u001b[0m\u001b[0;34m)\u001b[0m\u001b[0;34m\u001b[0m\u001b[0;34m\u001b[0m\u001b[0m\n\u001b[0m\u001b[1;32m      4\u001b[0m \u001b[0;34m\u001b[0m\u001b[0m\n\u001b[1;32m      5\u001b[0m \u001b[0mprint\u001b[0m\u001b[0;34m(\u001b[0m\u001b[0;34m)\u001b[0m\u001b[0;34m\u001b[0m\u001b[0;34m\u001b[0m\u001b[0m\n",
            "\u001b[0;31mTypeError\u001b[0m: 'itertools.permutations' object is not callable"
          ]
        }
      ]
    },
    {
      "cell_type": "markdown",
      "source": [
        "## Práctica 1.4\n",
        "Invente un caso de **variaciones con repetición**.\n",
        "Se pide contestar a los mismos puntos que el caso anterior.\n"
      ],
      "metadata": {
        "id": "gvlnqCaRMTua"
      }
    },
    {
      "cell_type": "markdown",
      "source": [
        "### Solución 1.4\n",
        "\n",
        "---\n",
        "\n",
        "\n",
        "* En los casos de **variaciones con repetición** contamos con que:\n",
        " - El orden importa.\n",
        " - No interviene todo el grupo, solo parte de él.\n",
        " - Los elementos se pueden repetir.\n",
        "\n",
        "* En un concurso de belleza se presentan 10 candidatas y se distribuyen 3 premios a Miss Lanzarote, Miss Simpatía y Miss Fotogenia. Las candidatas tienen la posibilidad de recibir más de un premio.\n",
        "\n",
        "\n",
        "1. Utilizando fórmulas de  𝐿𝐴𝑇 𝐸𝑋  calcule cuántos casos existen.\n",
        "2. Cree un programa en Python para calcular cuántos casos existen.\n",
        "3. Cree un programa en Python para imprimir todas las posibilidades y numérelas.\n",
        "* Los casos que se obtienen con las variaciones con repetición son: \n",
        "  \n",
        "  $$VR_{n,k} = n^k$$\n",
        "  \n",
        "  que para este ejemplo son: $$VR_{10,3} = 10^3 = 1000$$"
      ],
      "metadata": {
        "id": "hzvsgRDbkCy1"
      }
    },
    {
      "cell_type": "markdown",
      "source": [
        "## Práctica 1.5\n",
        "Invente un caso de **permutaciones sin repetición**.\n",
        "Se pide contestar a los mismos puntos que el caso anterior."
      ],
      "metadata": {
        "id": "0OCAC-I-G5F6"
      }
    },
    {
      "cell_type": "markdown",
      "source": [
        "### Solución 1.5\n",
        "\n",
        "---\n",
        "* En los casos de **permutaciones sin repetición** contamos con que:\n",
        " - El orden importa.\n",
        " - Intervienen todos los elementos.\n",
        " - No se pueden repetir los elementos.\n",
        "\n",
        "* Un gupo de amigos quiere irse de viaje a 4 ciudades: Barcelona (B), París (P), Londres (L) y Marrakech (M). ¿Cuántas rutas distintas podrían hacer teniendo en cuenta que no quieren pasar más de una vez por la misma ciudad?\n",
        "\n",
        "\n",
        "1. Utilizando fórmulas de  𝐿𝐴𝑇 𝐸𝑋  calcule cuántos casos existen.\n",
        "2. Cree un programa en Python para calcular cuántos casos existen.\n",
        "3. Cree un programa en Python para imprimir todas las posibilidades y numérelas.\n",
        "* Los casos que se obtienen con las permutaciones sin repetición son: $$P_n = V_{n,n} = n!$$\n",
        "\n",
        "  que para este ejemplo son: $$P_4 = 4!= 24$$"
      ],
      "metadata": {
        "id": "FvLcj6XXkFOV"
      }
    },
    {
      "cell_type": "code",
      "source": [
        "import math\n",
        "permutacion = math.factorial(4)\n",
        "print(\"Existen\", permutacion, \"casos. \")\n",
        "print(\"Comprobación:\", 4*3*2*1)"
      ],
      "metadata": {
        "colab": {
          "base_uri": "https://localhost:8080/"
        },
        "id": "aekglx_NRWJ5",
        "outputId": "153dfccd-44c5-43c6-bcb3-4fe34b90938f"
      },
      "execution_count": 155,
      "outputs": [
        {
          "output_type": "stream",
          "name": "stdout",
          "text": [
            "Existen 24 casos. \n",
            "Comprobación: 24\n"
          ]
        }
      ]
    },
    {
      "cell_type": "code",
      "source": [
        "ciudades = ['B', 'P', 'L', 'M']\n",
        "contador = 1\n",
        "\n",
        "for i in ciudades:\n",
        "    for j in ciudades:\n",
        "        for k in ciudades:\n",
        "            for l in ciudades:\n",
        "                if i != j and i != k and i != l and j != k and j != l and k != l:\n",
        "                    print(f\"{contador:2d}:  {i+j+k+l}\")\n",
        "                    contador += 1\n"
      ],
      "metadata": {
        "colab": {
          "base_uri": "https://localhost:8080/"
        },
        "id": "ar3UteG09NdE",
        "outputId": "3f91e00d-838b-4c04-b39e-e155285fbc90"
      },
      "execution_count": 154,
      "outputs": [
        {
          "output_type": "stream",
          "name": "stdout",
          "text": [
            " 1:  BPLM\n",
            " 2:  BPML\n",
            " 3:  BLPM\n",
            " 4:  BLMP\n",
            " 5:  BMPL\n",
            " 6:  BMLP\n",
            " 7:  PBLM\n",
            " 8:  PBML\n",
            " 9:  PLBM\n",
            "10:  PLMB\n",
            "11:  PMBL\n",
            "12:  PMLB\n",
            "13:  LBPM\n",
            "14:  LBMP\n",
            "15:  LPBM\n",
            "16:  LPMB\n",
            "17:  LMBP\n",
            "18:  LMPB\n",
            "19:  MBPL\n",
            "20:  MBLP\n",
            "21:  MPBL\n",
            "22:  MPLB\n",
            "23:  MLBP\n",
            "24:  MLPB\n"
          ]
        }
      ]
    },
    {
      "cell_type": "markdown",
      "source": [
        "## Práctica 1.6\n",
        "Invente un caso de **permutaciones con repetición**.\n",
        "Se pide contestar a los mismos puntos que el caso anterior."
      ],
      "metadata": {
        "id": "YWUXIczqLj3W"
      }
    },
    {
      "cell_type": "markdown",
      "source": [
        "### Solución 1.6\n",
        "\n",
        "---\n",
        "* En los casos de **permutaciones con repetición** contamos con que:\n",
        " - El orden importa.\n",
        " - Intervienen todos los elementos.\n",
        " - Se pueden repetir los elementos.\n",
        "\n",
        "* En una fiesta, 9 amigos se piden una copa cada uno, 3 son con cola, 4 con tónica y 2 con limón. ¿De cuántas formas puede servir el camarero los cubatas?\n",
        "\n",
        "\n",
        "\n",
        "1. Utilizando fórmulas de  𝐿𝐴𝑇 𝐸𝑋  calcule cuántos casos existen.\n",
        "2. Cree un programa en Python para calcular cuántos casos existen.\n",
        "3. Cree un programa en Python para imprimir todas las posibilidades y numérelas.\n",
        "* Los casos que se obtienen con las permutaciones con repetición son:\n",
        "\n",
        " ![Captura de pantalla 2022-10-16 a las 17.36.25.png](data:image/png;base64,iVBORw0KGgoAAAANSUhEUgAAAdYAAABwCAYAAACjKFEdAAAMZ2lDQ1BJQ0MgUHJvZmlsZQAASImVVwdYU8kWnltSIaEEEJASehNEepESQgtdqmAjJIGEEmJCULGXRQXXioiCDV0VUXQtgNixl0Wx98WCgrIu6mID5U1IQNd95Xvn++bOf8+c+U+5M/feAUDjI1ciyUU1AcgTF0jjw4KYY1PTmKTngAxMgRrAgTeXJ5Ow4uKiAJTB/u/y/hZAFP11RwXXP8f/q2jzBTIeAMh4iDP4Ml4exCcAwKt4EmkBAESF3mJKgUSB50CsI4UBQlymwFlKvEOBM5T4yIBNYjwb4qsAkNW5XGkWAPQHUM8s5GVBHnofxM5ivkgMgMYIiP15Qi4fYkXsI/Ly8hW4AmJbaC+BGMYDvDK+48z6G3/GED+XmzWElXkNCDlYJJPkcqf9n6X535KXKx/0YQ2bulAaHq/IH9bwTk5+pAKrQ9wlzoiJVdQa4o8ivrLuAKBUoTw8SWmPGvFkbFg/oAexM58bHAmxEcSh4tyYKJU+I1MUyoEYrhZ0qqiAkwixPsSLBLKQBJXNJml+vMoXWp8pZbNU+vNc6YBfha9H8pwklor/rVDAUfFj9CJhYgrEVIgtC0XJMRDTIXaS5SREqmxGFwnZMYM2Unm8In5LiOMF4rAgJT9WmCkNjVfZl+TJBvPFNglFnBgV3lcgTAxX1gc7zeMOxA9zwa4KxKykQR6BbGzUYC58QXCIMnesQyBOSlDxfJQUBMUr5+JUSW6cyh43F+SGKfTmELvJChNUc/HkArg4lfx4pqQgLlEZJ16UzY2IU8aDLwdRgA2CARPIYcsA+SAbiFq6GrrgnXIkFHCBFGQBAXBUaQZnpAyMiOE1ARSBPyASANnQvKCBUQEohPovQ1rl1RFkDowWDszIAc8hzgORIBfeywdmiYe8JYNnUCP6h3cubDwYby5sivF/rx/UftOwoCZKpZEPemRqDFoSQ4jBxHBiKNEON8T9cV88Cl4DYXPBvXDvwTy+2ROeE1oJTwg3CW2Eu5NE86Q/RBkN2iB/qKoWGd/XAreGnO54EO4H2SEzrocbAkfcDfph4QHQszvUslVxK6rC/IH7bxl89zRUdhRnCkoZRgmk2P44k25Pdx9iUdT6+/ooY80Yqjd7aORH/+zvqs+HfeSPltgibD92DjuJXcCOYA2AiR3HGrHL2FEFHlpdzwZW16C3+IF4ciCP6B/+uCqfikrKnGudO537lGMFgqkFio3HzpdMk4qyhAVMFvw6CJgcMc9pBNPF2cUFAMW3Rvn66r4y8A1BDLS+6eYSARid09/ff+ibLvo8AAcOw+1/+5vOlgxfE3cBOL+eJ5cWKnW44kKAbwkNuNMMgAmwALYwHxfgAXxBIAgBESAWJIJUMBFWWQjXuRRMATPAXFAMSsFysBqsAxvBFrAD7Ab7QAM4Ak6Cs+ASuApugvtw9bSDV6AbvAe9CIKQEBrCQAwQU8QKcUBcEC/EHwlBopB4JBVJR7IQMSJHZiDzkVJkJbIO2YzUIL8ih5CTyAWkFbmLPEY6kbfIZxRD1VEd1Bi1RkeiXigLjUQT0QloFjoZLUIXoEvRCrQa3YXWoyfRS+hNtA19hfZgAFPD9DAzzBHzwthYLJaGZWJSbBZWgpVj1Vgd1gSf83WsDevCPuFEnIEzcUe4gsPxJJyHT8Zn4UvwdfgOvB4/jV/HH+Pd+FcCjWBEcCD4EDiEsYQswhRCMaGcsI1wkHAG7qV2wnsikahHtCF6wr2YSswmTicuIa4n7iGeILYSnxJ7SCSSAcmB5EeKJXFJBaRi0lrSLtJx0jVSO+kjWY1sSnYhh5LTyGLyPHI5eSf5GPka+QW5l6JJsaL4UGIpfMo0yjLKVkoT5QqlndJL1aLaUP2oidRs6lxqBbWOeob6gPpOTU3NXM1bbYyaSG2OWoXaXrXzao/VPqlrq9urs9XHq8vVl6pvVz+hflf9HY1Gs6YF0tJoBbSltBraKdoj2kc6g+5E59D59Nn0Sno9/Rr9tQZFw0qDpTFRo0ijXGO/xhWNLk2KprUmW5OrOUuzUvOQ5m3NHi2G1iitWK08rSVaO7UuaHVok7SttUO0+doLtLdon9J+ysAYFgw2g8eYz9jKOMNo1yHq2OhwdLJ1SnV267TodOtq67rpJutO1a3UParbpofpWetx9HL1lunt07ul93mY8TDWMMGwxcPqhl0b9kF/uH6gvkC/RH+P/k39zwZMgxCDHIMVBg0GDw1xQ3vDMYZTDDcYnjHsGq4z3Hc4b3jJ8H3D7xmhRvZG8UbTjbYYXTbqMTYxDjOWGK81PmXcZaJnEmiSbVJmcsyk05Rh6m8qMi0zPW76kqnLZDFzmRXM08xuMyOzcDO52WazFrNecxvzJPN55nvMH1pQLbwsMi3KLJotui1NLaMtZ1jWWt6zolh5WQmt1lids/pgbWOdYr3QusG6w0bfhmNTZFNr88CWZhtgO9m22vaGHdHOyy7Hbr3dVXvU3t1eaF9pf8UBdfBwEDmsd2gdQRjhPUI8onrEbUd1R5ZjoWOt42MnPacop3lODU6vR1qOTBu5YuS5kV+d3Z1znbc63x+lPSpi1LxRTaPeuti78FwqXW640lxDXWe7Nrq+cXNwE7htcLvjznCPdl/o3uz+xcPTQ+pR59HpaemZ7lnledtLxyvOa4nXeW+Cd5D3bO8j3p98PHwKfPb5/Onr6Jvju9O3Y7TNaMHoraOf+pn7cf02+7X5M/3T/Tf5twWYBXADqgOeBFoE8gO3Bb5g2bGyWbtYr4Ocg6RBB4M+sH3YM9kngrHgsOCS4JYQ7ZCkkHUhj0LNQ7NCa0O7w9zDpoedCCeER4avCL/NMebwODWc7gjPiJkRpyPVIxMi10U+ibKPkkY1RaPREdGroh/EWMWIYxpiQSwndlXswzibuMlxh8cQx8SNqRzzPH5U/Iz4cwmMhEkJOxPeJwYlLku8n2SbJE9qTtZIHp9ck/whJThlZUrb2JFjZ469lGqYKkptTCOlJadtS+sZFzJu9bj28e7ji8ffmmAzYeqECxMNJ+ZOPDpJYxJ30v50QnpK+s70Pm4st5rbk8HJqMro5rF5a3iv+IH8Mn6nwE+wUvAi0y9zZWZHll/WqqxOYYCwXNglYovWid5kh2dvzP6QE5uzPac/NyV3Tx45Lz3vkFhbnCM+nW+SPzW/VeIgKZa0TfaZvHpytzRSuk2GyCbIGgt04E/9Zbmt/Cf540L/wsrCj1OSp+yfqjVVPPXyNPtpi6e9KAot+mU6Pp03vXmG2Yy5Mx7PZM3cPAuZlTGrebbF7AWz2+eEzdkxlzo3Z+5v85znrZz31/yU+U0LjBfMWfD0p7CfaovpxdLi2wt9F25chC8SLWpZ7Lp47eKvJfySi6XOpeWlfUt4Sy7+POrnip/7l2YubVnmsWzDcuJy8fJbKwJW7FiptbJo5dNV0avqy5hlJWV/rZ60+kK5W/nGNdQ18jVtFVEVjWst1y5f27dOuO5mZVDlniqjqsVVH9bz11/bELihbqPxxtKNnzeJNt3ZHLa5vtq6unwLcUvhludbk7ee+8Xrl5pthttKt33ZLt7etiN+x+kaz5qanUY7l9WitfLazl3jd13dHby7sc6xbvMevT2le8Fe+d6Xv6b/emtf5L7m/V776w5YHag6yDhYUo/UT6vvbhA2tDWmNrYeijjU3OTbdPCw0+HtR8yOVB7VPbrsGPXYgmP9x4uO95yQnOg6mXXyafOk5vunxp66cXrM6ZYzkWfOnw09e+oc69zx837nj1zwuXDootfFhksel+ovu18++Jv7bwdbPFrqr3heabzqfbWpdXTrsWsB105eD75+9gbnxqWbMTdbbyXdunN7/O22O/w7HXdz7765V3iv9/6cB4QHJQ81H5Y/MnpU/bvd73vaPNqOPg5+fPlJwpP7T3lPXz2TPetrX/Cc9rz8hemLmg6XjiOdoZ1XX4572f5K8qq3q/gPrT+qXtu+PvBn4J+Xu8d2t7+Rvul/u+Sdwbvtf7n91dwT1/Pofd773g8lHw0+7vjk9enc55TPL3qn9JH6Kr7YfWn6Gvn1QX9ef7+EK+UO/ApgsKGZmQC83Q4ALRUABjy3Uccpz4IDgijPrwMI/CesPC8OiAcAdbBT/MazTwCwFzbrOZAb9rGBACQGAtTVdaipRJbp6qLkotcCQDLr73+bDwAFtr6w/v7euP7+L1Uw2BsAHOtQnkEVQoRnhk3+CnRTP1kCfhDl+fS7HH/sgSICN/Bj/y+lDo9xKpyodwAAAIplWElmTU0AKgAAAAgABAEaAAUAAAABAAAAPgEbAAUAAAABAAAARgEoAAMAAAABAAIAAIdpAAQAAAABAAAATgAAAAAAAACQAAAAAQAAAJAAAAABAAOShgAHAAAAEgAAAHigAgAEAAAAAQAAAdagAwAEAAAAAQAAAHAAAAAAQVNDSUkAAABTY3JlZW5zaG90O7eeDQAAAAlwSFlzAAAWJQAAFiUBSVIk8AAAAdZpVFh0WE1MOmNvbS5hZG9iZS54bXAAAAAAADx4OnhtcG1ldGEgeG1sbnM6eD0iYWRvYmU6bnM6bWV0YS8iIHg6eG1wdGs9IlhNUCBDb3JlIDYuMC4wIj4KICAgPHJkZjpSREYgeG1sbnM6cmRmPSJodHRwOi8vd3d3LnczLm9yZy8xOTk5LzAyLzIyLXJkZi1zeW50YXgtbnMjIj4KICAgICAgPHJkZjpEZXNjcmlwdGlvbiByZGY6YWJvdXQ9IiIKICAgICAgICAgICAgeG1sbnM6ZXhpZj0iaHR0cDovL25zLmFkb2JlLmNvbS9leGlmLzEuMC8iPgogICAgICAgICA8ZXhpZjpQaXhlbFlEaW1lbnNpb24+MTEyPC9leGlmOlBpeGVsWURpbWVuc2lvbj4KICAgICAgICAgPGV4aWY6UGl4ZWxYRGltZW5zaW9uPjQ3MDwvZXhpZjpQaXhlbFhEaW1lbnNpb24+CiAgICAgICAgIDxleGlmOlVzZXJDb21tZW50PlNjcmVlbnNob3Q8L2V4aWY6VXNlckNvbW1lbnQ+CiAgICAgIDwvcmRmOkRlc2NyaXB0aW9uPgogICA8L3JkZjpSREY+CjwveDp4bXBtZXRhPgp7R4UvAAAAHGlET1QAAAACAAAAAAAAADgAAAAoAAAAOAAAADgAAA/kwKj4LwAAD7BJREFUeAHsnQnwVVMcx3/ZskeJ7NkSTZaRrDO2ITsxjEIJRZiyZKswIYQsDVGSLUJKlL2SrSxDZGpKi4kkS9n3JT5n5ty5//e/7/+2+27vvfv9zfS/75573rnn97lv+t1zzu/3O41W/C8mEQEREAEREAERiIVAIxnWWDiqEREQAREQARFwBGRY9UMQAREQAREQgRgJyLDGCFNNiYAIiIAIiIAMq34DIiACIiACIhAjARnWGGGqKREQAREQARGQYdVvQAREQAREQARiJCDDGiNMNSUCIiACIiACMqz6DYiACIiACIhAjARkWGOEqaZEQAREQAREQIZVvwEREAEREAERiJGADGuMMNWUCIiACIiACMiw6jcgAiIgAkUQ+O677+z3338PvtmiRQtr1KhRcK4P6SUgw5reZy/NRUAESiBwxhln2KJFi4IWRo4cadtss01wrg/pJSDDmt5nL81FQARKINCjRw+bN29e0MLo0aONUatEBGRY9RsQAREQgSII9O7d22bOnBl887nnnrO11147ONeH9BKQYU3vs5fmIiACJRDo27evTZ8+3bWwyiqr2KRJk7TGWgLPWvqqDGstPU3pIgIikBiB66+/3iZPnuzu16RJExs/fnxi99aNKpuADGtlPx/1TgREoEIJDB482CZOnOh6t8UWW9gjjzxSoT1Vt5ImIMOaNHHdTwREIHECy5Yts/nz59tuu+1mjRs3rnf/n3/+2RYuXGj//POPtWzZ0jbccMN6dTIL7rnnHnvyySdd8U477WRDhw7NrKLzlBKQYU3pg5faIpAGAm+88YaNGjXKee+uWLHC1l13Xbv44ovtoIMOcuoTizpixAh74YUXjOsI66Vdu3a1Ll26uPNsfx566CF78MEH3eX27dvboEGDslVVecoIyLCm7IFLXRFIC4GHH37YHnjggXrq7rzzznb33Xfb4sWL7ZJLLrGvv/66Xh0KhgwZYm3bto28RuGYMWOCUeohhxxi/fv3z1pXF9JFQIY1Xc9b2opAKgj40eRqq61mZ511lv3777923333Od3JjsRI88ILLzRGrPvtt58dfPDBNmPGjGDNlIqMWkkCkU0Ir7n11lvd5eOPP94Iv5GIAARkWPU7EAERqDkCTz31lA0fPtwGDBhg++yzj3366ad25plnOj3XX399a968uS1YsMA6d+5s3bt3d+V//PGHHXXUUW6dlYJjjjnGTRu7ixF/Xn31Vbv22mvdFaaNu3XrFlFLRWkkIMOaxqcunUUgBQR++OEHIwwGmTZtmvXr16+O1ieddJKdd955dcpOPvlk++abb1zZqaeeameffXad6+GTd955x6644gpXRDu0JxEBCMiw6ncgAiJQ8wQef/xxGzZsWKAnOX0Z0TJV7OXvv/+2I444wjgiJIA49NBD/eV6R7Iu+elfDGyHDh3q1VFBOgnIsKbzuUtrEUgVgauvvtrwEEZYY7333nutVatWdRjMmTPHevbsGZQRl0p8ajZhKtmPaAcOHGj77rtvtqoqTxkBGdaUPXCpKwJpJHDiiSfa8uXLneq77rqr3XHHHfUwEJNKbCpCHOu4cePq1QkXfPnll26NlrJcHsTh7+lz7ROoWsNK3Nmzzz7r9kNkT0QCu3GvX3PNNRN9apXSj3IrnRY9y81R7SdPYMmSJcZ6qZeLLrrIjj32WH8aHK+88kp7++233fmBBx5o11xzTXAt6sP3339vHTt2dJcI6yGxhEQEIFC1hvXjjz+2V155xSZMmOCe5FZbbWW42CctldKPcuudFj3LzVHtJ0/g5ZdfthtvvNHdmGlgRqIbbLBBnY4QjoMX8K+//urKCcU57rjj6tTJPPnrr78MI42QNzizzcz6Ok8Pgao1rDyi8BsjTgeXXXbZSnlyldKPciufFj3LzVHtJ0vgtttuC17At9xySzezldmDzPVV4ly33nrrzGo6F4G8CFS1YSWgm/RkyKWXXmpHHnlkXkrHXalS+hG3XpntpUXPTL11Xt0EiF8ljhXBc9eHyIS1Iu6VbEwIca7PPPNM+LI+i0BBBKrasJID9P7773cK+zdMXOXHjh1bB8LGG28c5AatcyGmk0rpR0zqZG0mLXpmBaALVUeA5Pqsp/o8wNnWV6+77jqbMmWK02/vvfcOpo791HDUBuZTp04NYl7XWGONnFPHVQdPHS6aQFUbVu9ssN5667k3TNZPmK4kWBuPPS/Zpn/89VKPldKPUvXI9f206JmLg65XD4FwEgd6TVrD7bffvp4C559/vs2ePduV45DUq1cvI8EEuYRxjMTrl/9nwnL66ae7fMO+7MUXX4zcOcdf1zE9BKrWsPIGSn7OH3/80fbaay+76aabgqf26KOPuh0rKGjTpo3xNprPNlBBAwV8qJR+FNDloqqmRc+i4OhLFUuAGS1mWhAiBsjvy+41mXLBBRfYrFmzXDHxrWRR4nuLFi0ykklgWNkZJywyrGEa+hwmULWG9bPPPnNJslGGJNunnXaa0+ujjz6yyy+/3Mj7ieHlTTScXSWsfByfK6UfcejSUBtp0bMhBrpWfQSY+v3www9dx7PFr3Ix/DIe1hIje/PNNwepEcPXZFjDNPQ5TKBqDStxlfzgEbz+2MD46aefdmnLMKRM4bBjRbmlUvohPctNQO1XIwGmdVkeQjp16mQ9evSIVIOt4xi1+jzBm222mR1wwAFudxvWT6NEhjWKisogULWGle2amNZBTjjhBHv33Xfdegcu8sSUNZSKzH0p4w9OCmuttZZLd5ZxqcHTOPqBw9WyZcvc1lY4Wq266qoN3nNlXIxDz5XRb91TBPIlQKKZefPmuWWjQv//yPceqpcOAlVrWNknkfWP1Vdf3RlE1lqRQjccxmFhxIgRbi/G559/3rVVyKMvth/EzeFV+NZbb9kXX3wReC3ydnzYYYe5raxw+68UKVbPSum/+iECIiACSRFIxLCymTBvg9kEZwIcC9ZZZ5281kPDLvR+z0S8+MgOhFs8MWi51lXnz59vI0eOtOnTpwfdmjRpUkGjxVL6cc4559gnn3ziHCLIY7rddts5I/vSSy+5/uy///7O6Sro3Er8UIqevtus0TK9lvlcPv/8c1dlk002sWxTbr4NHUVABESgGggkYljPPfdcmzt3bk4ehMtsuummbqsmHI+ypQhj2hcHJYTj4YcfbmPGjLGhQ4e6MjyE8RSOkp9++smtyb722msuEJz/zP26ChsXFyKl9MMb1v79+7tRtr+vZ4UBwn2/EqaFS9GTWQDyqH777bduio318Jb/51TFWYSpfB8WRV5W8rNKREAERKDaCSRiWJluJUE+MWVeMGgYUQwHI1ocDHwQN3W4joHcfffd/VeCI/9R0x5CfmDyBIe9VsnARCYmBO/gxo0bu8/8Ib9n9+7dnfFmU2NGiIMHD3bXsxlWRtsYZEbWzZo1C9oqpR8YlD///LNe2rQ777zTxo8f7/TH8IRHeNn6QYfon58VaN68edDHX375Jch/utFGGwVryIxCf/vtN1fPl2drvxg9eZbsFMILD56VjM6RLl26uP6g47bbbuvWtKg7evRoa9GihaujPyIgAiJQzQQSMawAev/9961Pnz4BK9YRSTjgBechvHrJoOQ3Gib2lPXPpk2b+mruiMfvBx984KZR2eGGkS7StWtXZ2BZm2RjY4wX92QUyP2ihFHhoEGD3KVshhUjjnHB2PupWr4QZz9oj0B0QodYO27Xrp3dcsstFAeSrR9UwEMaD2UE3ZlaRXDkmjx5svtM8nEfz3vVVVfZm2++6cox4EyhZ2u/GD3ZIBqHJ6a4cS4jqTmhUDiIMe3PSxMGd8CAAW7G4K677nJ90R8REAERqHYCiRlWNhlms2Ev5PhlfTRT/H/uvjyzXngXij333DMIuaF+OBZt8803d9OPBHUzIs2WUDsfw/rEE0+4jZG5hzdCcfeDtnmpYASO8SFDDDqEJaof/nrYsD722GNuNoBr4VRtYcPar18/mzZtmvu61ymq/bj07Ny5s3vRYdTPXpht27b1XddRBERABGqKQGKGlVHUsGHDAnhkRGEqMFO++uorO+WUU4Ji1lp79+4dnOPswnQiwggVb1UvTK1SF49bBMPLjjdMdWaTfAyrN/aM6iZOnOhGyHH3g9EmI1S8nG+44QbbY4896nU5qh++UngHj2yGFacu72nsDSujfe7NdHlU+3HoSWo44gmZ8mUrLkavEhEQARGoVQKJGVaMBfunImEDlQmWaWCmEb2EE2L7slxH1luZbiQmNJfkY1iZrpz6f2hMoZ66+faDESOjakaqcCJDTJQU24+otqLKim0/l56MjDHkyPDhw22HHXaIur3KREAERKAmCCRmWEk5SLwmwmiM9bcoWbx4sZHRxEvYEcmXxXnMZVgJGCctIuurhOfkY6wL6R87arAOSoJvRqysO0ZJuftRzvaZqWDGQttxRT1ZlYmACNQagUQMK1OBTOl6YSq3W7du/rTOkYQJhKB4CecB9mVxHnMZVtZ4mQ7FwSlq6rqUvuAlja7E7zJixdEHYV1z4cKFLu6T0T1Szn6Uu32f4Lx9+/aBo5hTSn9EQAREoAYJJGJYScLQt2/fAB9Giv9ko4R4xtdffz24hLcoO9SUS8Lxr96JJ3yvpUuXupCXhtZpw/Xz/UwKQ9aICQfCmcfryDokTkboTejNLrvs4posVz98f8vVPvodffTRztO7oRcq349Cj6yn+1jYQr/bUH28sjO3CWuovq6JgAiIgCeQiGElZAaPXQRnGUJkMrdg4hohNIR2eGndurWLhfTncR0ZgS5ZssQwJjj6kIAbIUEB/5iy3HHHHd1acFz3zGwnHO7CNLMX4mwxrghewtm8mX39Sj/OnDkzcD5rKHFHsXqEvaGLbSPqe8Tg8vuTiIAIiEChBBIxrExjzpgxw/UNQ4HByJT33nvPhc6QoQfBO/b2228PRnKZ9Us5HzhwoJG+sCHh3uyYUw4h0xPJKXJJODwmV91KvR4O4SEpRJMmTWLtqgxrrDjVmAiIQAwEym5YWS9kKtBn+enQoYNL2sAUIdl/FixYYDjw+CQG6ESsIyM6Ro8SEWiIAPmhcXiLW9hyMJyxK+721Z4IiEDtEii7YcUJBwekfIW1Rka4cTsK5Xt/1ROBYgng9c4Lo0QERKCyCBB+ySYgSUnZDeuECRNc0nuvEKn2WEMkfR9ri0wNkmYPg0rMqveM9fV1FIFqIdCzZ88gOUm19Fn9FIE0ECDT25AhQxJTteyGFQ9gQloQ3hrwvGWqVyICtUYAB71yeCjXGifpIwJJEyA9bKdOnRK7bdkNKyEWeOEiZBQitEQiAnERII3l8uXL42ouaIfwqvDOQsEFfRABERCBHAT+AwAA//+BOgkvAAAP7UlEQVTtnXesFcUXxw9WRFFUEgsYBGOLBY0tGguWaLCAXUFsoNiwl6ggKFFsiLEXFAuKRkWsYNfYUPgDoqAGFWIwViyIooL6+/mZn7u/efeVe++7s3dnn9+TwJ0td/bs59y3Z2fmzJl2//lbLCNZtGiR9e3b15JL9OvXzwYPHpzR1VTtv5HAjTfeaJMmTQp+67fddpttsskmwetVhSIgAm2fQLssHeu7775rF154YUpx5MiRtssuu6TbKohArQSuueYamzJlSq3VNPq+HGsjJNohAiJQIYFMHes999xj999/f6rKY489ZmuuuWa6rYII1ErghRdesFmzZtVaTaPvDxw40Dp16tRov3aIgAiIQDkCmTrWc845x2bMmOF06Ny5sz366KPl9NFxERABERABESg0gcwc6++//259+vSxJUuWOEDbbrutXXvttRXBWrp0qU2ePNlmzpxpXbp0sYMOOiht6c6dO9cd+/bbb2277baz3XbbzTp27FhRvTpJBERABERABLImkJljffbZZ2306NGp/jvssINdddVV6XZzhQULFtjQoUNtzpw56Sm9evWyESNGuG7le++9Nw2G4oStt97axowZk56rggiIgAiIgAjkSSC4Y/3rr79s4sSJhgNcvHhxem/LL7+8HXPMMS54qVu3bul+v/DLL7/YiSeeaN99950NGjTIpk6d6lqtq666qh144IHOsfbu3du1VBm/nT9/vi2zzDLuehoP80mqHAOBn3/+2RYuXGj03tBzwycR8j179rR27drFoGLddRCTuiPP/IKyaWPEwR3rl19+af379298pX/2nHLKKXb44Yc3e5xgJx48/Lvjjjvs4YcfdufyIDrrrLNc9zI7xo4daxMmTHDH7r77buvRo4cr6z8RiIXAJZdcYm+++WYjder9e/3hhx/st99+S/VYe+21c3PssTABRkxcUuMUsBCLTWOyZ3DHGvJ3ccEFF9j06dNdlYyznnHGGWn1dP8+/fTTbptu5w4dOqTHVBCBGAh88MEHNm3aNLvvvvtSdVZaaSV75plnXE9LujPjwnHHHWefffZZepVx48ZZ9+7d0+16FmJhwj3HxKWeNgh9rVhsGpM9o3WsdJkR/EQ3w2qrreZap77zJNHExx9/bOuss07acg39g1F9IhCCAFN35s2b56rKIyYg+VtJ7uWhhx4yWq15St5MuPcYueRpk1qvnbdNY7JntI6VBxGGQg4++GA7/fTTU7vjbHG6ON8999zThg0blh5TQQRiI3DYYYcZQXnIgAEDXPxAPXU888wz7b333ksvGUMPT95MgBEjl9RIBSzkbdOY7BmtY6W77LrrrnM/r1GjRtmOO+6Y/tTeeOMNGz58uNsGJoFNEhGIkcD3339vhxxySKoakfFEyNdTLr74YhcIyDUJ9nvppZdyG2NFhxiYoEdsXNCpqBKDTWOyZ7SO9corrzSy6iBPPPGE6w5OfnQ33XSTPf74426z3oEgiQ76FIFKCBC8RHAHQgDek08+Wfd515dffrm9/PLLTgeGVfh7ylNiYML9x8YlT5vUeu0YbBqTPaN1rEcddZR98cUX1rVrVxs/fnwDuw8ZMsRmz55tK6+8sgtg4oHFFB2lS2yASRsREPAj29dbb70GKT7rpR49P/QAIU39PdVLj+Q6MTBBl9i4JHyK+BmDTWOyZ5SOlbBpxlWRvffe2y666KIGv7UjjzzSvv76a7f6CMnSmZJDpCMrnWhFkgaotJEzASLZ33//facFc7CJdE+EOd/8KxW6a/kXSvgbeeSRR1x1m266qd16662hqm5VPTEwQfHYuLQKZiRfisGmMdkzSsfqj6GeffbZ6dzV5DdEEolPPvnEll12WfcGzlQCxmAvu+wyIxGFRARiIPDHH3/Yfvvtl6b1PPfcc23//fdPVfPfsNOdfxe23HJLu+GGG/xdNZWZ7kPCFmT77be3q6++2pXz+C8WJtx7TFzysEWoa8Zi05jsGaVjveuuu+zBBx90dqe8wQYbNPgNvPbaa3bFFVcYBm3fvr3Rgj366KODvuU3uKA2RKAVBD788EM79dRT02+SLWz99ddPt2nJsuzd559/nu6jcMQRR9jJJ5/cYF8tGyx+kbRS846ij4UJPGPiUot98/5uLDaNyZ5ROtZKfig//vijkYifMSMm3UtEIDYCLJN4yy23OLX8eABfT9YrZt1ihB4Ysov5rVr/3NaW/bzdRNATSV+NMFWHqM9ENt54Yzd/PNmu5jMWJuhcKxfqCMmG+ooosdg0hD1D8S+sYw0FQPWIQFYEGJqgdwVhJSZap748//zz6cIU5MO+9NJL3aIS/jkhyq+++qqNHDnSVUW+7uOPP76qav3lH/liv379XHKFqir55+RYmKBOrVyoIyQb6iuixGLTEPYMxV+ONRRJ1SMCJQTIiU2vCkK6tWOPPdaVSWzCeBB5sSnTAuThtNZaa7njof+jRUzLGKFrmon81UhI5xELE+6/Vi7UEZIN9RVRYrFpCHuG4i/HGoqk6hEBj8A333zjxkqTXaxFzJrEZA2j5UqAHkK3LxGVWQbd0V2ZdP/iYPfZZ59ErYo+QzmPmJhw47VyoY5QbKiriBKTTUPYM5QN5FhDkVQ9IuARoAuYVmgi119/vX300UdGnt6ffvrJlltuOTvvvPOqdnJJfdV8fvrpp3bCCSe4rxD0t9NOO1Xz9WDOIyYmAKiVC3X82x1rTDYNYU9sGkLkWENQVB0iUELg5ptvdusEl+xON+uZjN9fypG53ltssUWqRyUFopcJFkyERBd+dHOyv9xn1kxY73bFFVcsp0Z6vFYuVBSKTapUwQpZ27QaHCHsWc31WjpXjrUlOjomAq0kwLrDtFCRzTbbzLbZZhuXr5cVmRC6fln2sBpHwPe++uorYwoa40m0fldZZRV2tyg4RZZdREqn/LT4xcAHQzJhfdl33nnHXn/9ddfyJGEMjhUejFmTuY2Xl5YkFi4t6Rj7sZA2rfVeY7KnHGut1tT3RaCEAA94xk6ZZ43QXXjAAQfY3LlzG6xsk4y7lny9yc1Fixa51J6TJk1K68UxV+JYly5daiRaQcin2qlTpyavkeXOkEx4gDJ3nTqRzp07u+5tnO0rr7yS8hk6dKjttddezd5WDFyaVa4AB0LaNMTtxmRPOdYQFlUdIuAR8IMo2H3nnXfahhtu6M4g+QMBHwjRlLzxtyQ8LFhw4oEHHnCBT/65kydPLswc7pBMyAt+6KGHOhQ777yzm0pEvnDEjwwlypp0p5JsCIS0aTYa5lerHGt+7HXlNkqAhzlJyRG6epm4TvIHxF+1qUePHsbqTC0J02PIbLPRRhtZ3759jRYr6TyR5557ruqu5JauleWxkExosbI+M2xp9a+++uoNVE8W8GDnlClTXHa2BidoIwiBkDblBZIXxZkzZ1qXLl3c0EWyqAr2ZvWc6dOnu78jpouR8zpmkWON2TrSrZAEhg0bZm+99ZbTffPNNzeWOUwEZ+jn6p04caKtscYa7vCff/7p0nImrS920t1Lov4+ffq4Zef8/MKVOlYiN5P5tCussIJz0Ik+9foMyaSczkRAEyGKtMQoBi7+vbC0n5/hinFxoscTISf6tGnTkk33stWzZ890mwL3y7BBIvxuyo3j+9flZY94gEoklE0XLFhgdNvPmTMnvWyvXr1sxIgRLo5g7Nixbr53crC5ALyY7CnHmlhLnyIQiAArM7FCE8LbtZ8vmCAbxgcTOf/8823fffe1hQsXurFYVmdiGo7vXJNz+WyNYyWPtp+PuCVn418rZDlLJr6ePKTJDMX4Nq38pOfAPycpx8Al0YXPZNWuZF9pa/vFF1+0UaNGJYddd/hpp52WblMgs9b8+fPTfaVrWacHvILPYdddd20wTcw7rVExhE0XL15sLKrCC8WgQYPs7bffdq1WMpFRP4tHkN+atLUsfciqT7Rsm3pZ8O8DZfP4nSeQ5FgTEvoUgQAEWEOYrshEhg8fbrvvvnuy6T79B0D37t2dI2DRCVokLDhx++23N2ip+F8uomPNmonPB8eDA+LFhEQcJOVoTnw7cE6eD2Kun5djHTx4sCXR6kSwM4WmnIS0KRnIaHnzz1/XFR14cWA8na5i0nLSPUw+7aYkJnvKsTZlIe0TgVYSKG1VTJgwoVHCeh4kTHspFVqrOIOOHTuWHkq3i+hYs2aSwKF1liy3R+tnwIAByaEmP2N6EKNgXo7VnzJT6Xq9WdmU9YoZS0WIrGepxUolJnvKsVZqNZ0nAhUQ8Jc8ZFoLwUalwjQF3r6Zh0muYKbMkGaQLjHGQFuSIjrWrJnAi/E1mMKTsUnSRJaTmB7E6Oo7VsZW6fL0U13661RzPj0jSUYttpGTTjopHaskYO6pp56yDh06/O9gM//379/fSK6AsH4wQxHlJAubYjvGhEn7SVcwL6WsClWpxGRPOdZKrabzRCAwAaIdSW9IFGQSNVzuEq1xrOXqjOl4a5gwLkegC+OqzBdmzm5zY9Qx3WsMuvz6668umI2uVoQWY+/evYOqVqlN582bZwMHDnTXLo1NCKpQHSqTY60DZF1CBEIRaOuOtVpOM2bMcCv3LFmyxHUdkoxDTrVyiv4apgxFsH4wAUJ5CMFJ/L6RMWPGlM2clYeOlV5TjrVSUjpPBCIgIMf6fyPQwiG4hVYXrSwirOVU/8+nXInoYfgxPYfhCIKWunXrVu5rmR1P5nhjQ5xsuS7szBQJULEcawCIqkIE6kVg9OjRLuEE1yudjlEvHWK4DtM0GF9kbJDsS6wk5Le0iHJlviNBTFtttVUMKkenA0sIkqmKDFXMrc7TqQInSexBpPy4ceOi41WNQnKs1dDSuSKQMwF/mbLx48db165dc9Yon8sTPc2LBa0bgpbat2+fKkLwC4EvONdq8jGnFfxLCrT4Sb5AsFKSpCSvW2feN/NWEeZ10/tQZJFjLbL1pHubJ0Dgx9SpU10CiVmzZqUZnbhxWhh77LGHm9uHgy3NwtNW4eAwiX4lirScMCeY1W4kcRPwI56ZYsNUmyKLHGuRrSfd2zyB2bNn25AhQ8reZ5ICruyJbeCE5uYBN3VrJN5Yd911mzqkfRER8KfvkD+b1IpFFjnWIltPuouACIiACERHQI41OpNIIREQAREQgSITkGMtsvWkuwiIgAiIQHQE5FijM4kUEgEREAERKDIBOdYiW0+6i4AIiIAIREdAjjU6k0ghERABERCBIhOQYy2y9aS7CIiACIhAdATkWKMziRQSAREQAREoMgE51iJbT7qLgAiIgAhER0CONTqTSCEREAEREIEiE5BjLbL1pLsIiIAIiEB0BORYozOJFBIBERABESgyATnWIltPuouACIiACERHQI41OpNIIREQAREQgSITkGMtsvWkuwiIgAiIQHQE5FijM4kUEgEREAERKDIBOdYiW0+6i4AIiIAIREfgv68hV78IyUz9AAAAAElFTkSuQmCC)\n",
        "\n",
        " que para este ejemplo son: $$P_9 ^{2,3,4} = \\frac{9!}{2! \\text{  } 3! \\text{  } 4!} = 1260$$"
      ],
      "metadata": {
        "id": "siAxWVVekHs6"
      }
    },
    {
      "cell_type": "code",
      "source": [
        "import math\n",
        "permutacion_seis = math.factorial(9) / (math.factorial(2) * math.factorial(3) * math.factorial(4))\n",
        "print(\"Existen\", permutacion_seis, \"casos. \")"
      ],
      "metadata": {
        "colab": {
          "base_uri": "https://localhost:8080/"
        },
        "id": "_D71KucbGLoa",
        "outputId": "44fe8799-ea76-47fa-825e-7425201534ad"
      },
      "execution_count": 153,
      "outputs": [
        {
          "output_type": "stream",
          "name": "stdout",
          "text": [
            "Existen 1260.0 casos. \n"
          ]
        }
      ]
    },
    {
      "cell_type": "markdown",
      "source": [
        "## Práctica 1.7\n",
        "Invente un caso de **combinaciones sin repetición**.\n",
        "Se pide contestar a los mismos puntos que el caso anterior."
      ],
      "metadata": {
        "id": "opCrIDtJGg1R"
      }
    },
    {
      "cell_type": "markdown",
      "source": [
        "### Solución 1.7\n",
        "\n",
        "---\n",
        "* En los casos de **combinaciones sin repetición** contamos con que:\n",
        " - El orden no importa.\n",
        " - No intervienen todos los elementos, solo parte de ellos.\n",
        " - No se permite la repetición de elementos.\n",
        "\n",
        "* Una chica acude a una costurera para hacerse un disfraz, la costurera le ofrece telas de 7 colores distintos: Rojo (R), Azul (A), Verde (V), Naranja(N), Blanco (B), Amarillo (A) y Morado (M) , pero la chica solo necesita telas de 3 colores para su disfraz. \n",
        "\n",
        "1. Utilizando fórmulas de  𝐿𝐴𝑇 𝐸𝑋  calcule cuántos casos existen.\n",
        "2. Cree un programa en Python para calcular cuántos casos existen.\n",
        "3. Cree un programa en Python para imprimir todas las posibilidades y numérelas.\n",
        "* Los casos que se obtienen con las combinaciones sin repetición son:\n",
        "\n",
        "![Captura de pantalla 2022-10-16 a las 17.44.36.png](data:image/png;base64,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)  \n",
        "\n",
        "\n",
        "que para este ejemplo son: $$C_{7,3} = \\binom {7}{3} = \\frac {7}{3! \\text{ } 4!} = 35 $$"
      ],
      "metadata": {
        "id": "Zs46BsRnkJcl"
      }
    },
    {
      "cell_type": "markdown",
      "source": [
        "## Práctica 1.8\n",
        "Invente un caso de **combinaciones con repetición**.\n",
        "Se pide contestar a los mismos puntos que el caso anterior."
      ],
      "metadata": {
        "id": "-7Y5WWlDGzAR"
      }
    },
    {
      "cell_type": "markdown",
      "source": [
        "### Solución 1.8\n",
        "\n",
        "---\n",
        "\n",
        "* En los casos de **combinaciones con repetición** contamos con que:\n",
        " - El orden no importa.\n",
        " - No intervienen todos los elementos, solo parte de ellos.\n",
        " - Se repiten los elementos.\n",
        "\n",
        "* En una bodega existen cinco tipos distintos de vino: Tinto (T), Rosado (R), Blanco (B), Dulce (D) y Espumoso (E). Existen packs de regalo de 3 botellas donde el cliente puede combinar los vinos a su gusto.\n",
        "\n",
        "1. Utilizando fórmulas de  𝐿𝐴𝑇 𝐸𝑋  calcule cuántos casos existen.\n",
        "2. Cree un programa en Python para calcular cuántos casos existen.\n",
        "3. Cree un programa en Python para imprimir todas las posibilidades y numérelas.\n",
        "* Los casos que se obtienen con las combinaciones con repetición son:\n",
        "\n",
        " ![Captura de pantalla 2022-10-16 a las 18.02.04.png](data:image/png;base64,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) \n",
        " \n",
        "  que para este ejemplo son: $$CR_{5,3} = \\binom{7}{3} = 35$$ "
      ],
      "metadata": {
        "id": "ReRULqd8kL1F"
      }
    },
    {
      "cell_type": "markdown",
      "source": [
        "## Práctica 1.9\n",
        "En el gobierno se crea una unidad de crisis formada por el presidente (P) y 4 ministros (A,B,C,D) que se reúnen sentados alrededor de una **mesa redonda**.\n",
        "\n",
        "Se pide:  \n",
        "1. Calcule de cuantas formas pueden llegar a sentarse si el ministro de defensa (D) siempre ha de estar al lado del presidente (P). Escriba la solución en una celda de Markdown utilizando fórmulas en $\\LaTeX$  explicando el caso.\n",
        "2. Cree un programa en Python para calcular el número de casos que se pueden dar al sentarse en la mesa.\n",
        "3. Cree un programa en Python para imprimir todas las posibilidades y numérelas. Por ejemplo:\n",
        "    - 1 PDABC\n",
        "    - 2 PDACB\n",
        "    - 3 PDBCD\n",
        "    - 4 PDBDC\n",
        "    - 5 PDCAB\n",
        "    - 6 PDCBA\n",
        "    - 7 DPABC\n",
        "    - 8 DPACB\n",
        "    - &#20; &#20; &#20; ... ... ...\n"
      ],
      "metadata": {
        "id": "SOzxh_YgHnDG"
      }
    },
    {
      "cell_type": "markdown",
      "source": [
        "### Solución 1.9\n",
        "\n",
        "---\n",
        "\n",
        "\n",
        "* Se trata de un caso que se resuelve a traves de la permutación circular ya que:\n",
        " - El orden importa, aunque no existe principio ni fin.\n",
        " - Intervienen todos los elementos, puesto que todos se reunen\n",
        " - No se repiten. Una persona no puede estar sentada en varios sitios a la vez.\n",
        "* En este caso, además, contamos con que el ministro de defensa (D) y el presidente (P) siempre se deben sentar juntos; y estos elementos también pueden permutarse entre sí, ya que el Ministro puede estar tanto a la izquierda como a la derecha del Presidente. Por lo que debemos tratar también este conjunto y calcular sus posiblidades. (A este conjunto lo llamaremos Presidencia)\n",
        "* Como se trata de dos sucesos independientes y que ocurren de manera simultánea, han de relacionarse de forma multiplicativa, aplicando la regla del producto.\n",
        "\n",
        "* Los casos que se obtienen con la permutación circular son: $$PC_n = P_{n-1} = (n-1)!$$\n",
        "* Los casos que obtenemos para el conjunto de la presidencia son: $$P_2 = 2! = 2$$ \n",
        "* Los casos que obtenemos para el conjunto del resto de ministros son: $$PC_4 = (4-1)! = 3! = 6 $$\n",
        "* Al aplicar la regla del producto obtenemos que: $$PC_4 \\cdot P_2 = 6 \\cdot 2 = 12$$\n",
        "\n",
        "  Por lo que existen 12 formas distintas de colocarse en la mesa."
      ],
      "metadata": {
        "id": "F8kV034OkQZX"
      }
    },
    {
      "cell_type": "code",
      "source": [
        "def Circular(n) :\n",
        "    Result = 1\n",
        " \n",
        "    while n > 0 :\n",
        "        Result = Result * n\n",
        "        n -= 1\n",
        " \n",
        "    return Result\n",
        "     \n",
        "if __name__ == \"__main__\" :\n",
        "    n = 4\n",
        " \n",
        "    print(\"Existen\", Circular(n-1), \"casos distintos entre los ministros.\")\n",
        "\n",
        "\n",
        "permutacion_pres = math.factorial(2)\n",
        "print(\"Existen\", permutacion_pres, \"casos distintos en la presidencia.\")\n",
        "\n",
        "print(\"Por lo que en total existen\", Circular(n-1) * permutacion_pres, \"casos.\")\n"
      ],
      "metadata": {
        "id": "-WO-xGXxLbDY",
        "outputId": "2a000598-ad7a-4934-a66a-bd208915bc07",
        "colab": {
          "base_uri": "https://localhost:8080/"
        }
      },
      "execution_count": 152,
      "outputs": [
        {
          "output_type": "stream",
          "name": "stdout",
          "text": [
            "Existen 6 casos distintos entre los ministros.\n",
            "Existen 2 casos distintos en la presidencia.\n",
            "Por lo que en total existen 12 casos.\n"
          ]
        }
      ]
    },
    {
      "cell_type": "markdown",
      "source": [
        "## Práctica 1.10\n",
        "* Realice una breve explicación teórica del **triángulo de Pascal**, o también llamado triángulo de Tartaglia, y de las fórmulas de los números combinatorios.\n",
        "* Cree un programa en Python para hacer el triángulo de Pascal."
      ],
      "metadata": {
        "id": "eiHdMOP-MkrZ"
      }
    },
    {
      "cell_type": "markdown",
      "source": [
        "### Solución 1.10\n",
        "\n",
        "---\n",
        "\n",
        "\n",
        "\n",
        "El triángulo de Pascal es un triángulo de números enteros, infinito y simétrico. Se empieza con un 1 en la primera fila, y en las filas siguientes se van colocando números de forma que cada uno de ellos sea la suma de los dos números que tiene encima. Se supone que los lugares fuera del triángulo contienen ceros, de forma que los bordes del triángulo están formados por unos.\n",
        "\n",
        "Los números del triángulo de Pascal coinciden con los números combinatorios.\n",
        "El número combinatorio Cm n (n sobre m) se encuentra en el triángulo en la fila n+1, en el lugar m+1.\n",
        "\n",
        "En las matemáticas, el triángulo de Pascal es una representación de los coeficientes binomiales ordenados en forma de triángulo.\n",
        "\n",
        "La construcción del triángulo está relacionada con los coeficientes binomiales según la fórmula combinatoria. Esta fórmula o regla explica que los coeficientes (nodos del \"árbol\") de una fila dada del triángulo, se pueden calcular con la fórmula combinatoria de combinaciones de \n",
        "n elementos de k en k; expresado matemáticamente: (n k), dónde n es la fila - 1 y k la posición en la fila.\n",
        "\n",
        "* La fórmula de los números combinatorios se le puede dar el carácter de fórmula general del triángulo para saber, sin necesidad de construir todas las filas anteriores, cuál es el número que ocupa un lugar determinado,: \n",
        "![combinatorio.gif](data:image/gif;base64,R0lGODlhsQA4ALMAAAAAAP///////////////////////////////////////////////////////////yH5BAEAAAEALAAAAACxADgAQAT+MMhJq7046827/2AojuQHkGeprmzrbmkVxwE92a9KzxSeW75aDXAitoIg5G/J5BCfs6JE6aF2rM2sdivLSKcXI+sbxfikZJRwfethueEq/Do314/Ou36/xZF5PXxOKWJPN29wRogwY4JegVM7izqTjSuVblCam5ydnp+goZpqa5iQOlpicY42qo5dQKeyqG10sGC4Ijuxr719gqa+wsPEtHLFyMN+hMytySbBz7eygNPKpdXR0rNsbK61xdXde66GpS7a49uv3yidq8aZm+t9Z03p6fRzhLmk8eR88v0y08xOlnbgAsoQiM5gP24jVO06lDASOFMSeT28Rs1PwzbsZeD141FplzOK+lIyjJiypcuXMGPKnEnzka2aOJPoysmTEUuaCHuqE4Lm4Uo9QXm2y7hxqK+i/CwKtTayYtNeTLsdRebxorqtlnKBPfIFzyWup8omPWguqkB8U9muihq2xNipa5nAjbskb9+6fNHl8yTSn7xRgauc1As4MRdFZQ1LBoj077l/PxUCy2EIMuadch1qRilMSZrCEQtK1YiykN8wqhO+rhMkK1WW2WwGYmaVjjitaEXWNluVdFexCzmxPu6U3fKvH6+yRt77JnR9ixhKciMa+GqdpGXfbTzdOSvHT8+jL015vXsVEQAAOw==)\n"
      ],
      "metadata": {
        "id": "j0UT2579kTSM"
      }
    },
    {
      "cell_type": "code",
      "source": [
        "input_num = int(input(\"Enter the number of rows: \"))\n",
        "list = [] #an empty list\n",
        "for n in range(input_num):\n",
        "    list.append([])\n",
        "    list[n].append(1)\n",
        "    for m in range(1, n):\n",
        "        list[n].append(list[n - 1][m - 1] + list[n - 1][m])\n",
        "    if(input_num != 0):\n",
        "        list[n].append(1)\n",
        "for n in range(input_num):\n",
        "    print(\" \" * (input_num - n), end = \" \", sep = \" \")\n",
        "    for m in range(0, n + 1):\n",
        "        print('{0:5}'.format(list[n][m]), end = \" \", sep = \" \")\n",
        "    print()"
      ],
      "metadata": {
        "id": "2iR4SSToKryw",
        "outputId": "94efdc89-70ff-424e-fed6-596bfe7cb045",
        "colab": {
          "base_uri": "https://localhost:8080/"
        }
      },
      "execution_count": 151,
      "outputs": [
        {
          "output_type": "stream",
          "name": "stdout",
          "text": [
            "Enter the number of rows: 10\n",
            "               1 \n",
            "              1     1 \n",
            "             1     2     1 \n",
            "            1     3     3     1 \n",
            "           1     4     6     4     1 \n",
            "          1     5    10    10     5     1 \n",
            "         1     6    15    20    15     6     1 \n",
            "        1     7    21    35    35    21     7     1 \n",
            "       1     8    28    56    70    56    28     8     1 \n",
            "      1     9    36    84   126   126    84    36     9     1 \n"
          ]
        }
      ]
    }
  ]
}