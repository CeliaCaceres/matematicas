{
  "nbformat": 4,
  "nbformat_minor": 0,
  "metadata": {
    "colab": {
      "provenance": [],
      "include_colab_link": true
    },
    "kernelspec": {
      "name": "python3",
      "display_name": "Python 3"
    },
    "language_info": {
      "name": "python"
    }
  },
  "cells": [
    {
      "cell_type": "markdown",
      "metadata": {
        "id": "view-in-github",
        "colab_type": "text"
      },
      "source": [
        "<a href=\"https://colab.research.google.com/github/CeliaCaceres/matematicas/blob/main/practicas/practica_combinatoria.ipynb\" target=\"_parent\"><img src=\"https://colab.research.google.com/assets/colab-badge.svg\" alt=\"Open In Colab\"/></a>"
      ]
    },
    {
      "cell_type": "markdown",
      "source": [
        "# Práctica 1. Combinatoria\n",
        "Resuelva los siguientes apartados de la práctica.  \n",
        "La práctica 1.1 se proporciona solucionada para que pueda servir como ejemplo.\n"
      ],
      "metadata": {
        "id": "VP-PLgSCPtPC"
      }
    },
    {
      "cell_type": "markdown",
      "source": [
        "## Práctica 1.1\n",
        "Cuatro amigos:\n",
        "* Antonio (A)\n",
        "* Begoña (B)\n",
        "* Cesar (C)\n",
        "* Diana (D)\n",
        "\n",
        "constituyen una asociación y tienen que asignar los siguientes cargos:\n",
        "* Presiente (1)\n",
        "* Vicepresidente (2)\n",
        "* Secretario (3)\n",
        "* Tesorero (4)\n",
        "\n",
        "Se pide:\n",
        "1. Escribiendo la solución en una celda de Markdown analice el caso indicando si se trata de variaciones, permutaciones o combinaciones, con o sin repetición o el caso que sea, y el motivo para clasificar el caso de esta forma.\n",
        "2. Utilizando fórmulas de $\\LaTeX$ calcule cuántos casos existen.\n",
        "3. Cree un programa en Python para calcule cuántos casos existen.\n",
        "4. Cree un programa en Python para imprimir todas las posibilidades y numérelas. Por ejemplo:\n",
        "    - 1 ABCD\n",
        "    - 2 ABDC\n",
        "    - 3 ACBD\n",
        "    - &#20; &#20; &#20; ... ... ..."
      ],
      "metadata": {
        "id": "6oyoxqfbQJDC"
      }
    },
    {
      "cell_type": "markdown",
      "source": [
        "### Solución 1.1\n",
        "* Estamos ante un caso de **permutaciones sin repetición** ya que:\n",
        " - El orden importa, no es lo mismo estar el nº1 que significa ser presidente que el nº 4 que corresponde al tesorero.\n",
        " - Intervienen todos. Son 4 amigos para 4 cargos, todos tienen cargo, lo que cambiar es el orden, esto es, el cargo que obtengan.\n",
        " - No se repiten elementos. Una persona no puede tener dos cargos simultaneamente.\n",
        "* Los casos que se obtienen con las permutaciones sin repetición son $P_{n}=n!$ que para este ejemplo son:\n",
        "\n",
        "$$P_{4}=4!=4 \\cdot 3 \\cdot 2 \\cdot 1 = 24$$"
      ],
      "metadata": {
        "id": "t5unIqR7jdZR"
      }
    },
    {
      "cell_type": "code",
      "source": [
        "import math\n",
        "p = math.factorial(4)\n",
        "print(\"Los casos son: \", p)\n",
        "print(\"Comprobación:  \", 4*3*2*1)"
      ],
      "metadata": {
        "id": "va3_l_-hmFS-",
        "colab": {
          "base_uri": "https://localhost:8080/"
        },
        "outputId": "4f3bf753-5df0-423e-d7bc-b03a9d3d1a11"
      },
      "execution_count": 1,
      "outputs": [
        {
          "output_type": "stream",
          "name": "stdout",
          "text": [
            "Los casos son:  24\n",
            "Comprobación:   24\n"
          ]
        }
      ]
    },
    {
      "cell_type": "markdown",
      "source": [
        "#### Método 1\n",
        "Sin usar librería."
      ],
      "metadata": {
        "id": "kOM3pEAGnh8v"
      }
    },
    {
      "cell_type": "code",
      "source": [
        "lista = ['A', 'B', 'C', 'D']\n",
        "contador = 1\n",
        "\n",
        "for i in lista:\n",
        "    for j in lista:\n",
        "        for k in lista:\n",
        "            for l in lista:\n",
        "                if i != j and i != k and i != l and j != k and j != l and k != l:\n",
        "                    print(f\"{contador:2d} →  {i+j+k+l}\")\n",
        "                    contador += 1"
      ],
      "metadata": {
        "id": "5--ZpSoJncj3",
        "colab": {
          "base_uri": "https://localhost:8080/"
        },
        "outputId": "7fae8f96-e365-445b-8eae-d7c0502eb255"
      },
      "execution_count": 2,
      "outputs": [
        {
          "output_type": "stream",
          "name": "stdout",
          "text": [
            " 1 →  ABCD\n",
            " 2 →  ABDC\n",
            " 3 →  ACBD\n",
            " 4 →  ACDB\n",
            " 5 →  ADBC\n",
            " 6 →  ADCB\n",
            " 7 →  BACD\n",
            " 8 →  BADC\n",
            " 9 →  BCAD\n",
            "10 →  BCDA\n",
            "11 →  BDAC\n",
            "12 →  BDCA\n",
            "13 →  CABD\n",
            "14 →  CADB\n",
            "15 →  CBAD\n",
            "16 →  CBDA\n",
            "17 →  CDAB\n",
            "18 →  CDBA\n",
            "19 →  DABC\n",
            "20 →  DACB\n",
            "21 →  DBAC\n",
            "22 →  DBCA\n",
            "23 →  DCAB\n",
            "24 →  DCBA\n"
          ]
        }
      ]
    },
    {
      "cell_type": "markdown",
      "source": [
        "#### Método 2\n",
        "* Usamos la función `permutations` de la librería `itertools`.\n",
        "* Imprimimos todas las permutaciones de los elementos de una lista."
      ],
      "metadata": {
        "id": "2PoCD5GlnwS1"
      }
    },
    {
      "cell_type": "code",
      "source": [
        "from itertools import permutations\n",
        "\n",
        "perm = permutations(['A','B','C','D'])   # obtenemos todas las permutaciones de la lista \n",
        "\n",
        "for i in list(perm):                     # imprimimos todas las permutaciones \n",
        "    print (*i)                           # con el asterisco se muestran las listas sin corchetes ni comas"
      ],
      "metadata": {
        "id": "eKkB1gQnn6_P",
        "colab": {
          "base_uri": "https://localhost:8080/"
        },
        "outputId": "d4781819-9560-424d-cfe2-ab54d0639e71"
      },
      "execution_count": 3,
      "outputs": [
        {
          "output_type": "stream",
          "name": "stdout",
          "text": [
            "A B C D\n",
            "A B D C\n",
            "A C B D\n",
            "A C D B\n",
            "A D B C\n",
            "A D C B\n",
            "B A C D\n",
            "B A D C\n",
            "B C A D\n",
            "B C D A\n",
            "B D A C\n",
            "B D C A\n",
            "C A B D\n",
            "C A D B\n",
            "C B A D\n",
            "C B D A\n",
            "C D A B\n",
            "C D B A\n",
            "D A B C\n",
            "D A C B\n",
            "D B A C\n",
            "D B C A\n",
            "D C A B\n",
            "D C B A\n"
          ]
        }
      ]
    },
    {
      "cell_type": "markdown",
      "source": [
        "## Práctica 1.2\n",
        "Cuatro amigos:\n",
        "* Antonio (A)\n",
        "* Begoña (B)\n",
        "* Cesar (C)\n",
        "* Diana (D)\n",
        "\n",
        "constituyen una asociación y tienen que asignar los siguientes cargos:\n",
        "* Presiente (1)\n",
        "* Secretario (3)\n",
        "* Tesorero (4)\n",
        "\n",
        "Se pide:\n",
        "1. Escribiendo la solución en una celda de Markdown analice el caso indicando si se trata de variaciones, permutaciones o combinaciones, con o sin repetición o el caso que sea, y el motivo para clasificar el caso de esta forma.\n",
        "2. Utilizando fórmulas de $\\LaTeX$ calcule cuántos casos existen.\n",
        "3. Cree un programa en Python para calcule cuántos casos existen.\n",
        "4. Cree un programa en Python para imprimir todas las posibilidades y numérelas. Por ejemplo:\n",
        "    - 1 ABC\n",
        "    - 2 ABD\n",
        "    - 3 ACB\n",
        "    - &#20; &#20; &#20; ... ... ..."
      ],
      "metadata": {
        "id": "sxSuCpAFSBPJ"
      }
    },
    {
      "cell_type": "markdown",
      "source": [
        "### Solución 1.2\n",
        "\n",
        "---\n",
        "\n",
        "\n",
        "* Estamos ante un caso de **variaciones sin repetición** ya que:\n",
        " - El orden importa, puesto que no es lo mismo estar en el nº1, que significa ser presidente, que el nº 3 que corresponde al tesorero.\n",
        " - No intervienen todos, solo parte del grupo; ya que son cuatro amigos para tres puestros.\n",
        " - No se pueden repetir los elementos ya que una persona no puede tener dos cargos simultáneamente. \n",
        "* Los casos que se obtienen con las variaciones sin repetición son XXXXXXXXXX\n",
        "que para este ejemplo son: XXXXXXXXXXXXXX"
      ],
      "metadata": {
        "id": "xx9qsw_ej9Pd"
      }
    },
    {
      "cell_type": "markdown",
      "source": [
        "## Práctica 1.3\n",
        "Invente un caso de **variaciones sin repetición**.\n",
        "Se pide contestar a los mismos puntos que el caso anterior."
      ],
      "metadata": {
        "id": "D0S1DjF4MKmz"
      }
    },
    {
      "cell_type": "markdown",
      "source": [
        "### Solución 1.3\n",
        "\n",
        "---\n",
        "\n",
        "\n",
        "* En los casos de **variaciones sin repetición** contamos con que:\n",
        " - El orden importa.\n",
        " - No intervienen todos los elementos, solo parte de ellos.\n",
        " - No se pueden repetir los elementos.\n",
        "\n",
        "\n",
        "* Se presenta el caso de un campeonato de Formula 1 donde se reparten tres trofeos a los tres primeros equipos, en orden: oro, plata y bronce; y en el que participan 8 coches.\n",
        "\n",
        "1. Utilizando fórmulas de  𝐿𝐴𝑇 𝐸𝑋  calcule cuántos casos existen.\n",
        "2. Cree un programa en Python para calcular cuántos casos existen.\n",
        "3. Cree un programa en Python para imprimir todas las posibilidades y numérelas.\n",
        "* Los casos que se obtienen con las variaciones sin repetición son XXXXXXXXXX que para este ejemplo son: XXXXXXXXXXXXXX"
      ],
      "metadata": {
        "id": "AfyuPIASj_20"
      }
    },
    {
      "cell_type": "markdown",
      "source": [
        "## Práctica 1.4\n",
        "Invente un caso de **variaciones con repetición**.\n",
        "Se pide contestar a los mismos puntos que el caso anterior.\n"
      ],
      "metadata": {
        "id": "gvlnqCaRMTua"
      }
    },
    {
      "cell_type": "markdown",
      "source": [
        "### Solución 1.4\n",
        "\n",
        "---\n",
        "\n",
        "\n",
        "* En los casos de **variaciones con repetición** contamos con que:\n",
        " - El orden importa.\n",
        " - No interviene todo el grupo, solo parte de él.\n",
        " - Los elementos se pueden repetir.\n",
        "\n",
        "* En un concurso de belleza se presentan 10 candidatas y se distribuyen 3 premios a Miss Lanzarote, Miss Simpatía y Miss Fotogenia. Las candidatas tienen la posibilidad de recibir más de un premio.\n",
        "\n",
        "\n",
        "1. Utilizando fórmulas de  𝐿𝐴𝑇 𝐸𝑋  calcule cuántos casos existen.\n",
        "2. Cree un programa en Python para calcular cuántos casos existen.\n",
        "3. Cree un programa en Python para imprimir todas las posibilidades y numérelas.\n",
        "* Los casos que se obtienen con las variaciones con repetición son XXXXXXXXXX que para este ejemplo son: XXXXXXXXXXXXXX"
      ],
      "metadata": {
        "id": "hzvsgRDbkCy1"
      }
    },
    {
      "cell_type": "markdown",
      "source": [
        "## Práctica 1.5\n",
        "Invente un caso de **permutaciones sin repetición**.\n",
        "Se pide contestar a los mismos puntos que el caso anterior."
      ],
      "metadata": {
        "id": "0OCAC-I-G5F6"
      }
    },
    {
      "cell_type": "markdown",
      "source": [
        "### Solución 1.5\n",
        "\n",
        "---\n",
        "* En los casos de **permutaciones sin repetición** contamos con que:\n",
        " - El orden importa.\n",
        " - Intervienen todos los elementos.\n",
        " - No se pueden repetir los elementos.\n",
        "\n",
        "* Un gupo de amigos quiere irse de viaje a 5 ciudades (Barcelona, París, Londres, Marrakech y Amsterdam) ¿Cuántas rutas distintas podrían hacer teniendo en cuenta que no quieren pasar más de una vez por la misma ciudad?\n",
        "\n",
        "\n",
        "1. Utilizando fórmulas de  𝐿𝐴𝑇 𝐸𝑋  calcule cuántos casos existen.\n",
        "2. Cree un programa en Python para calcular cuántos casos existen.\n",
        "3. Cree un programa en Python para imprimir todas las posibilidades y numérelas.\n",
        "* Los casos que se obtienen con las permutaciones sin repetición son XXXXXXXXXX que para este ejemplo son: XXXXXXXXXXXXXX"
      ],
      "metadata": {
        "id": "FvLcj6XXkFOV"
      }
    },
    {
      "cell_type": "markdown",
      "source": [
        "## Práctica 1.6\n",
        "Invente un caso de **permutaciones con repetición**.\n",
        "Se pide contestar a los mismos puntos que el caso anterior."
      ],
      "metadata": {
        "id": "YWUXIczqLj3W"
      }
    },
    {
      "cell_type": "markdown",
      "source": [
        "### Solución 1.6\n",
        "\n",
        "---\n",
        "* En los casos de **permutaciones con repetición** contamos con que:\n",
        " - El orden importa.\n",
        " - Intervienen todos los elementos.\n",
        " - Se pueden repetir los elementos.\n",
        "\n",
        "* En una fiesta, 9 amigos se piden una copa cada uno, 3 son con cola, 4 con tónica y 2 con limón. ¿De cuántas formas puede servir el camarero los cubatas?\n",
        "\n",
        "\n",
        "\n",
        "1. Utilizando fórmulas de  𝐿𝐴𝑇 𝐸𝑋  calcule cuántos casos existen.\n",
        "2. Cree un programa en Python para calcular cuántos casos existen.\n",
        "3. Cree un programa en Python para imprimir todas las posibilidades y numérelas.\n",
        "* Los casos que se obtienen con las permutaciones con repetición son XXXXXXXXXX que para este ejemplo son: XXXXXXXXXXXXXX"
      ],
      "metadata": {
        "id": "siAxWVVekHs6"
      }
    },
    {
      "cell_type": "markdown",
      "source": [
        "## Práctica 1.7\n",
        "Invente un caso de **combinaciones sin repetición**.\n",
        "Se pide contestar a los mismos puntos que el caso anterior."
      ],
      "metadata": {
        "id": "opCrIDtJGg1R"
      }
    },
    {
      "cell_type": "markdown",
      "source": [
        "### Solución 1.7\n",
        "\n",
        "---\n",
        "* En los casos de **combinaciones sin repetición** contamos con que:\n",
        " - El orden no importa.\n",
        " - No intervienen todos los elementos, solo parte de ellos.\n",
        " - No se permite la repetición de elementos.\n",
        "\n",
        "* Una chica acude a una costurera para hacerse un disfraz, la costurera le ofrece telas de 7 colores distintos: Rojo (R), Azul (A), Verde (V), Naranja(N), Blanco (B), Amarillo (A) y Morado (M) , pero la chica solo necesita telas de 3 colores para su disfraz. \n",
        "\n",
        "1. Utilizando fórmulas de  𝐿𝐴𝑇 𝐸𝑋  calcule cuántos casos existen.\n",
        "2. Cree un programa en Python para calcular cuántos casos existen.\n",
        "3. Cree un programa en Python para imprimir todas las posibilidades y numérelas.\n",
        "* Los casos que se obtienen con las combinaciones sin repetición son XXXXXXXXXX que para este ejemplo son: XXXXXXXXXXXXXX"
      ],
      "metadata": {
        "id": "Zs46BsRnkJcl"
      }
    },
    {
      "cell_type": "markdown",
      "source": [
        "## Práctica 1.8\n",
        "Invente un caso de **combinaciones con repetición**.\n",
        "Se pide contestar a los mismos puntos que el caso anterior."
      ],
      "metadata": {
        "id": "-7Y5WWlDGzAR"
      }
    },
    {
      "cell_type": "markdown",
      "source": [
        "### Solución 1.8\n",
        "\n",
        "---\n",
        "\n",
        "* En los casos de **combinaciones con repetición** contamos con que:\n",
        " - El orden no importa.\n",
        " - No intervienen todos los elementos, solo parte de ellos.\n",
        " - Se repiten los elementos.\n",
        "\n",
        "* En una bodega existen cinco tipos distintos de vino: Tinto (T), Rosado (R), Blanco (B), Dulce (D) y Espumoso (E). Existen packs de regalo de 3 botellas donde el cliente puede combinar los vinos a su gusto.\n",
        "\n",
        "1. Utilizando fórmulas de  𝐿𝐴𝑇 𝐸𝑋  calcule cuántos casos existen.\n",
        "2. Cree un programa en Python para calcular cuántos casos existen.\n",
        "3. Cree un programa en Python para imprimir todas las posibilidades y numérelas.\n",
        "* Los casos que se obtienen con las combinaciones con repetición son XXXXXXXXXX que para este ejemplo son: XXXXXXXXXXXXXX"
      ],
      "metadata": {
        "id": "ReRULqd8kL1F"
      }
    },
    {
      "cell_type": "markdown",
      "source": [
        "## Práctica 1.9\n",
        "En el gobierno se crea una unidad de crisis formada por el presidente (P) y 4 ministros (A,B,C,D) que se reúnen sentados alrededor de una **mesa redonda**.\n",
        "\n",
        "Se pide:  \n",
        "1. Calcule de cuantas formas pueden llegar a sentarse si el ministro de defensa (D) siempre ha de estar al lado del presidente (P). Escriba la solución en una celda de Markdown utilizando fórmulas en $\\LaTeX$  explicando el caso.\n",
        "2. Cree un programa en Python para calcular el número de casos que se pueden dar al sentarse en la mesa.\n",
        "3. Cree un programa en Python para imprimir todas las posibilidades y numérelas. Por ejemplo:\n",
        "    - 1 PDABC\n",
        "    - 2 PDACB\n",
        "    - 3 PDBCD\n",
        "    - 4 PDBDC\n",
        "    - 5 PDCAB\n",
        "    - 6 PDCBA\n",
        "    - 7 DPABC\n",
        "    - 8 DPACB\n",
        "    - &#20; &#20; &#20; ... ... ...\n"
      ],
      "metadata": {
        "id": "SOzxh_YgHnDG"
      }
    },
    {
      "cell_type": "markdown",
      "source": [
        "### Solución 1.9\n",
        "\n",
        "---\n",
        "\n",
        "\n",
        "* Se trata de un caso que se resuelve a traves de la permutación circular ya que:\n",
        " - El orden importa, aunque no existe principio ni fin.\n",
        " - Intervienen todos los elementos, puesto que todos se reunen\n",
        " - No se repiten. Una persona no puede estar sentada en varios sitios a la vez.\n",
        "* En este caso, además, contamos con que el ministro de defensa (D) y el presidente (P) siempre se deben sentar juntos; y estos elementos también pueden permutarse entre sí, ya que el Ministro puede estar tanto a la izquierda como a la derecha del Presidente. Por lo que debemos tratar también este conjunto y calcular sus posiblidades. (A este conjunto lo llamaremos Presidencia)\n",
        "* Como se trata de dos sucesos independientes y que ocurren de manera simultánea, han de relacionarse de forma multiplicativa, aplicando la regla del producto.\n",
        "\n",
        "* Los casos que obtenemos para el conjunto de la presidencia son XXXXXX\n",
        "* Los casos que obtenemos para el conjunto de la mesa en general son XXXXX\n",
        "* Al aplicar la regla del producto obtenemos que XXXXXXX"
      ],
      "metadata": {
        "id": "F8kV034OkQZX"
      }
    },
    {
      "cell_type": "markdown",
      "source": [
        "## Práctica 1.10\n",
        "* Realice una breve explicación teórica del **triángulo de Pascal**, o también llamado triángulo de Tartaglia, y de las fórmulas de los números combinatorios.\n",
        "* Cree un programa en Python para hacer el triángulo de Pascal."
      ],
      "metadata": {
        "id": "eiHdMOP-MkrZ"
      }
    },
    {
      "cell_type": "markdown",
      "source": [
        "### Solución 1.10\n",
        "\n",
        "---\n",
        "\n",
        "\n",
        "\n",
        "El triángulo de Pascal es un triángulo de números enteros, infinito y simétrico. Se empieza con un 1 en la primera fila, y en las filas siguientes se van colocando números de forma que cada uno de ellos sea la suma de los dos números que tiene encima. Se supone que los lugares fuera del triángulo contienen ceros, de forma que los bordes del triángulo están formados por unos.\n",
        "\n",
        "Los números del triángulo de Pascal coinciden con los números combinatorios.\n",
        "El número combinatorio Cm n (n sobre m) se encuentra en el triángulo en la fila n+1, en el lugar m+1.\n",
        "\n",
        "En las matemáticas, el triángulo de Pascal es una representación de los coeficientes binomiales ordenados en forma de triángulo.\n",
        "\n",
        "La construcción del triángulo está relacionada con los coeficientes binomiales según la fórmula combinatoria. Esta fórmula o regla explica que los coeficientes (nodos del \"árbol\") de una fila dada del triángulo, se pueden calcular con la fórmula combinatoria de combinaciones de \n",
        "n elementos de k en k; expresado matemáticamente: (n k), dónde n es la fila - 1 y k la posición en la fila.\n",
        "\n",
        "* La fórmula de los números combinatorios se le puede dar el carácter de fórmula general del triángulo para saber, sin necesidad de construir todas las filas anteriores, cuál es el número que ocupa un lugar determinado,: \n",
        "![combinatorio.gif](data:image/gif;base64,R0lGODlhsQA4ALMAAAAAAP///////////////////////////////////////////////////////////yH5BAEAAAEALAAAAACxADgAQAT+MMhJq7046827/2AojuQHkGeprmzrbmkVxwE92a9KzxSeW75aDXAitoIg5G/J5BCfs6JE6aF2rM2sdivLSKcXI+sbxfikZJRwfethueEq/Do314/Ou36/xZF5PXxOKWJPN29wRogwY4JegVM7izqTjSuVblCam5ydnp+goZpqa5iQOlpicY42qo5dQKeyqG10sGC4Ijuxr719gqa+wsPEtHLFyMN+hMytySbBz7eygNPKpdXR0rNsbK61xdXde66GpS7a49uv3yidq8aZm+t9Z03p6fRzhLmk8eR88v0y08xOlnbgAsoQiM5gP24jVO06lDASOFMSeT28Rs1PwzbsZeD141FplzOK+lIyjJiypcuXMGPKnEnzka2aOJPoysmTEUuaCHuqE4Lm4Uo9QXm2y7hxqK+i/CwKtTayYtNeTLsdRebxorqtlnKBPfIFzyWup8omPWguqkB8U9muihq2xNipa5nAjbskb9+6fNHl8yTSn7xRgauc1As4MRdFZQ1LBoj077l/PxUCy2EIMuadch1qRilMSZrCEQtK1YiykN8wqhO+rhMkK1WW2WwGYmaVjjitaEXWNluVdFexCzmxPu6U3fKvH6+yRt77JnR9ixhKciMa+GqdpGXfbTzdOSvHT8+jL015vXsVEQAAOw==)\n"
      ],
      "metadata": {
        "id": "j0UT2579kTSM"
      }
    }
  ]
}